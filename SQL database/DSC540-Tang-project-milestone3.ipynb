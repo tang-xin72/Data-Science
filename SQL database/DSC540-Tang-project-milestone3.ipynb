{
 "cells": [
  {
   "cell_type": "markdown",
   "id": "03ac2a2e",
   "metadata": {},
   "source": [
    "## DSC540 project milestone 3\n",
    "#### Author: Xin Tang\n",
    "### date: 2/2/2024"
   ]
  },
  {
   "cell_type": "markdown",
   "id": "fb82d540",
   "metadata": {},
   "source": [
    "#### Perform at least 5 data transformation and/or cleansing steps to your website data"
   ]
  },
  {
   "cell_type": "markdown",
   "id": "85365427",
   "metadata": {},
   "source": [
    "###### the website has the information of all Texas airport and related info\n",
    "I will clean up data, find the correct airport for city of Austin"
   ]
  },
  {
   "cell_type": "code",
   "execution_count": 1,
   "id": "801e1b5c",
   "metadata": {},
   "outputs": [],
   "source": [
    "# import related package\n",
    "import numpy as np\n",
    "import pandas as pd\n",
    "from bs4 import BeautifulSoup\n",
    "import matplotlib.pyplot as plt\n",
    "import re"
   ]
  },
  {
   "cell_type": "markdown",
   "id": "769cc8a8",
   "metadata": {},
   "source": [
    "###### Step1. extract table from website and exam which table is what I need"
   ]
  },
  {
   "cell_type": "code",
   "execution_count": 3,
   "id": "d65d0d34",
   "metadata": {},
   "outputs": [
    {
     "name": "stdout",
     "output_type": "stream",
     "text": [
      "(457, 7)\n",
      "(0, 2)\n",
      "(4, 2)\n",
      "(7, 2)\n"
     ]
    }
   ],
   "source": [
    "list_of_df = pd.read_html(\"https://en.wikipedia.org/wiki/List_of_airports_in_Texas\", header=0)\n",
    "for t in list_of_df: print(t.shape)"
   ]
  },
  {
   "cell_type": "code",
   "execution_count": 4,
   "id": "ba81f900",
   "metadata": {},
   "outputs": [],
   "source": [
    "# cross check with the table on the webpage, looks like the first table is what I needed."
   ]
  },
  {
   "cell_type": "markdown",
   "id": "2556ed5d",
   "metadata": {},
   "source": [
    "###### Step2. get the correct table and adjust the header"
   ]
  },
  {
   "cell_type": "code",
   "execution_count": 4,
   "id": "a78447d0",
   "metadata": {},
   "outputs": [
    {
     "name": "stdout",
     "output_type": "stream",
     "text": [
      "       City  FAA IATA  ICAO  \\\n",
      "0       NaN  NaN  NaN   NaN   \n",
      "1   Abilene  ABI  ABI  KABI   \n",
      "2  Amarillo  AMA  AMA  KAMA   \n",
      "3    Austin  AUS  AUS  KAUS   \n",
      "4  Beaumont  BPT  BPT  KBPT   \n",
      "\n",
      "                                        Airport_name Role  Enplanements (2021)  \n",
      "0              Commercial service – primary airports  NaN                  NaN  \n",
      "1                           Abilene Regional Airport  P-N              75402.0  \n",
      "2        Rick Husband Amarillo International Airport  P-N             303904.0  \n",
      "3             Austin–Bergstrom International Airport  P-L            6666215.0  \n",
      "4  Jack Brooks Regional Airport (was Southeast Te...  P-N              21914.0  \n"
     ]
    },
    {
     "data": {
      "text/plain": [
       "(457, 7)"
      ]
     },
     "execution_count": 4,
     "metadata": {},
     "output_type": "execute_result"
    }
   ],
   "source": [
    "#extra the correct table, remove space out of essential variable names to avoid calling variable name with space\n",
    "df_new = list_of_df[0]\n",
    "df_new.rename(columns = {'City served':'City'}, inplace = True)\n",
    "df_new.rename(columns = {'Airport name':'Airport_name'}, inplace = True)\n",
    "print(df_new.head())\n",
    "df_new.shape"
   ]
  },
  {
   "cell_type": "markdown",
   "id": "779fbba7",
   "metadata": {},
   "source": [
    "###### Step3. drop first few records since they are not linked to any specific airports"
   ]
  },
  {
   "cell_type": "code",
   "execution_count": 5,
   "id": "61991c81",
   "metadata": {},
   "outputs": [
    {
     "data": {
      "text/plain": [
       "(456, 7)"
      ]
     },
     "execution_count": 5,
     "metadata": {},
     "output_type": "execute_result"
    }
   ],
   "source": [
    "#df_new.drop([0], axis=0, inplace=True)\n",
    "df_new.drop(df_new.index[0], inplace=True)\n",
    "df_new.shape"
   ]
  },
  {
   "cell_type": "markdown",
   "id": "b6c0b2c0",
   "metadata": {},
   "source": [
    "###### Step4. exam the dataframe for duplicate and NAs. Fix casing if needed."
   ]
  },
  {
   "cell_type": "code",
   "execution_count": 6,
   "id": "2c6e7528",
   "metadata": {},
   "outputs": [
    {
     "name": "stdout",
     "output_type": "stream",
     "text": [
      "There are 359 of unique values in City column out of 456\n",
      "There are 447 of unique values in FAA column out of 456\n",
      "There are 126 of unique values in IATA column out of 456\n",
      "There are 187 of unique values in ICAO column out of 456\n",
      "There are 456 of unique values in Airport_name column out of 456\n",
      "There are 7 of unique values in Role column out of 456\n",
      "There are 79 of unique values in Enplanements (2021) column out of 456\n",
      "None\n",
      "variables with NA values\n",
      " City                     7\n",
      "FAA                      8\n",
      "IATA                   329\n",
      "ICAO                   268\n",
      "Airport_name             0\n",
      "Role                   245\n",
      "Enplanements (2021)    247\n",
      "dtype: int64\n",
      "\n",
      " it is True that all airport codes are upper case\n"
     ]
    }
   ],
   "source": [
    "#Check datatable health, check airport code are upper case\n",
    "cols = df_new.columns\n",
    "def Unique_Values():\n",
    "    for i in np.arange(0,len(cols)):\n",
    "        print('There are {} of unique values in {} column out of {}'.format(df_new[cols[i]].nunique(), cols[i], len(df_new)))\n",
    "print(Unique_Values())\n",
    "#df_new.info()\n",
    "print('variables with NA values\\n', df_new.isna().sum())\n",
    "print('\\n it is {a} that all airport codes are upper case'.format(a = df_new[\"IATA\"].str.isupper().all()))"
   ]
  },
  {
   "cell_type": "markdown",
   "id": "509d8597",
   "metadata": {},
   "source": [
    "###### summary:\n",
    "1. there are some records without city info filled, but we can filter them out\n",
    "2. There are many cities with duplicate. That's could due to mulltiple airports in the same city. since airport name has no duplicate.\n",
    "3. airport names are not empty, so no need to do fuzzy matching.\n",
    "4. for this data, no need to check outliners."
   ]
  },
  {
   "cell_type": "markdown",
   "id": "29c1fe15",
   "metadata": {},
   "source": [
    "###### Step5. Find airport serving Austin"
   ]
  },
  {
   "cell_type": "code",
   "execution_count": 7,
   "id": "4251fcd4",
   "metadata": {},
   "outputs": [
    {
     "name": "stdout",
     "output_type": "stream",
     "text": [
      "       City  FAA IATA  ICAO  \\\n",
      "3    Austin  AUS  AUS  KAUS   \n",
      "226  Austin  EDC  NaN  KEDC   \n",
      "424  Austin  AUS  AUS  KAUS   \n",
      "\n",
      "                                          Airport_name Role  \\\n",
      "3               Austin–Bergstrom International Airport  P-L   \n",
      "226  Austin Executive Airport (was Bird's Nest Airp...  NaN   \n",
      "424  Robert Mueller Municipal Airport (closed 1999)...  NaN   \n",
      "\n",
      "     Enplanements (2021)  \n",
      "3              6666215.0  \n",
      "226                  NaN  \n",
      "424                  NaN  \n"
     ]
    }
   ],
   "source": [
    "# find airport serving Austin, there are 3 airports in Austin.\n",
    "Austin = df_new[df_new['City'] =='Austin']\n",
    "print(Austin)"
   ]
  },
  {
   "cell_type": "markdown",
   "id": "1ea5d5a5",
   "metadata": {},
   "source": [
    "###### Step6. remove unrelevant columns and keep essential ones only."
   ]
  },
  {
   "cell_type": "code",
   "execution_count": 8,
   "id": "08b35e54",
   "metadata": {},
   "outputs": [
    {
     "data": {
      "text/html": [
       "<div>\n",
       "<style scoped>\n",
       "    .dataframe tbody tr th:only-of-type {\n",
       "        vertical-align: middle;\n",
       "    }\n",
       "\n",
       "    .dataframe tbody tr th {\n",
       "        vertical-align: top;\n",
       "    }\n",
       "\n",
       "    .dataframe thead th {\n",
       "        text-align: right;\n",
       "    }\n",
       "</style>\n",
       "<table border=\"1\" class=\"dataframe\">\n",
       "  <thead>\n",
       "    <tr style=\"text-align: right;\">\n",
       "      <th></th>\n",
       "      <th>City</th>\n",
       "      <th>FAA</th>\n",
       "      <th>IATA</th>\n",
       "      <th>Airport_name</th>\n",
       "      <th>Role</th>\n",
       "    </tr>\n",
       "  </thead>\n",
       "  <tbody>\n",
       "    <tr>\n",
       "      <th>3</th>\n",
       "      <td>Austin</td>\n",
       "      <td>AUS</td>\n",
       "      <td>AUS</td>\n",
       "      <td>Austin–Bergstrom International Airport</td>\n",
       "      <td>P-L</td>\n",
       "    </tr>\n",
       "    <tr>\n",
       "      <th>226</th>\n",
       "      <td>Austin</td>\n",
       "      <td>EDC</td>\n",
       "      <td>NaN</td>\n",
       "      <td>Austin Executive Airport (was Bird's Nest Airp...</td>\n",
       "      <td>NaN</td>\n",
       "    </tr>\n",
       "    <tr>\n",
       "      <th>424</th>\n",
       "      <td>Austin</td>\n",
       "      <td>AUS</td>\n",
       "      <td>AUS</td>\n",
       "      <td>Robert Mueller Municipal Airport (closed 1999)...</td>\n",
       "      <td>NaN</td>\n",
       "    </tr>\n",
       "  </tbody>\n",
       "</table>\n",
       "</div>"
      ],
      "text/plain": [
       "       City  FAA IATA                                       Airport_name Role\n",
       "3    Austin  AUS  AUS             Austin–Bergstrom International Airport  P-L\n",
       "226  Austin  EDC  NaN  Austin Executive Airport (was Bird's Nest Airp...  NaN\n",
       "424  Austin  AUS  AUS  Robert Mueller Municipal Airport (closed 1999)...  NaN"
      ]
     },
     "execution_count": 8,
     "metadata": {},
     "output_type": "execute_result"
    }
   ],
   "source": [
    "Austin_df = Austin[['City','FAA', 'IATA','Airport_name','Role']]\n",
    "Austin_df"
   ]
  },
  {
   "cell_type": "markdown",
   "id": "5ae15450",
   "metadata": {},
   "source": [
    "###### Step 7. only P and L are large commerical airport, filter out non-commericial airport, left is what I am interested"
   ]
  },
  {
   "cell_type": "code",
   "execution_count": 45,
   "id": "57f2db0b",
   "metadata": {},
   "outputs": [
    {
     "name": "stdout",
     "output_type": "stream",
     "text": [
      "Austin airport code is: AUS\n"
     ]
    }
   ],
   "source": [
    "AUS = Austin_df[Austin_df['Role']== 'P-L']\n",
    "#A = AUS['IATA']\n",
    "print(\"Austin airport code is:\", AUS['IATA'].loc[AUS.index[0]] )"
   ]
  },
  {
   "cell_type": "markdown",
   "id": "b2dbc1e0",
   "metadata": {},
   "source": [
    "### End of milestone3"
   ]
  },
  {
   "cell_type": "code",
   "execution_count": 9,
   "id": "7dad19f3",
   "metadata": {},
   "outputs": [],
   "source": [
    "Austin_df.to_csv('IATA_code.csv')"
   ]
  },
  {
   "cell_type": "code",
   "execution_count": null,
   "id": "fb8b473a",
   "metadata": {},
   "outputs": [],
   "source": []
  }
 ],
 "metadata": {
  "kernelspec": {
   "display_name": "Python 3 (ipykernel)",
   "language": "python",
   "name": "python3"
  },
  "language_info": {
   "codemirror_mode": {
    "name": "ipython",
    "version": 3
   },
   "file_extension": ".py",
   "mimetype": "text/x-python",
   "name": "python",
   "nbconvert_exporter": "python",
   "pygments_lexer": "ipython3",
   "version": "3.11.4"
  }
 },
 "nbformat": 4,
 "nbformat_minor": 5
}
