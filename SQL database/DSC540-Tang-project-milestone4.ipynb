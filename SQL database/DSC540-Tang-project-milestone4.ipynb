{
 "cells": [
  {
   "cell_type": "markdown",
   "id": "aea31aa6",
   "metadata": {},
   "source": [
    "## DSC540 project milestone 4\n",
    "#### Author: Xin Tang\n",
    "### date: 2/16/2024\n",
    "\n",
    "#### Perform at least 5 data transformation and/or cleansing steps to your API data"
   ]
  },
  {
   "cell_type": "code",
   "execution_count": 1,
   "id": "a8a4816c",
   "metadata": {},
   "outputs": [],
   "source": [
    "# load necessary packages\n",
    "import pandas as pd\n",
    "import matplotlib.pyplot as plt\n",
    "import numpy as np\n",
    "import requests\n",
    "import datetime"
   ]
  },
  {
   "cell_type": "code",
   "execution_count": 2,
   "id": "3a880164",
   "metadata": {},
   "outputs": [],
   "source": [
    "# make API call to get 5 days (every 3 hour) weather reading \n",
    "newurl ='https://api.openweathermap.org/data/2.5/forecast?lat=30.4224&lon=-97.7967&appid=ec83f46dfbe12662beeee4a7ae75a168'\n",
    "data2 = requests.get(newurl).json()"
   ]
  },
  {
   "cell_type": "code",
   "execution_count": 3,
   "id": "9810e793",
   "metadata": {},
   "outputs": [
    {
     "data": {
      "text/html": [
       "<div>\n",
       "<style scoped>\n",
       "    .dataframe tbody tr th:only-of-type {\n",
       "        vertical-align: middle;\n",
       "    }\n",
       "\n",
       "    .dataframe tbody tr th {\n",
       "        vertical-align: top;\n",
       "    }\n",
       "\n",
       "    .dataframe thead th {\n",
       "        text-align: right;\n",
       "    }\n",
       "</style>\n",
       "<table border=\"1\" class=\"dataframe\">\n",
       "  <thead>\n",
       "    <tr style=\"text-align: right;\">\n",
       "      <th></th>\n",
       "      <th>dt</th>\n",
       "      <th>weather</th>\n",
       "      <th>visibility</th>\n",
       "      <th>pop</th>\n",
       "      <th>dt_txt</th>\n",
       "      <th>main.temp</th>\n",
       "      <th>main.feels_like</th>\n",
       "      <th>main.temp_min</th>\n",
       "      <th>main.temp_max</th>\n",
       "      <th>main.pressure</th>\n",
       "      <th>main.sea_level</th>\n",
       "      <th>main.grnd_level</th>\n",
       "      <th>main.humidity</th>\n",
       "      <th>main.temp_kf</th>\n",
       "      <th>clouds.all</th>\n",
       "      <th>wind.speed</th>\n",
       "      <th>wind.deg</th>\n",
       "      <th>wind.gust</th>\n",
       "      <th>sys.pod</th>\n",
       "      <th>rain.3h</th>\n",
       "    </tr>\n",
       "  </thead>\n",
       "  <tbody>\n",
       "    <tr>\n",
       "      <th>0</th>\n",
       "      <td>1707534000</td>\n",
       "      <td>[{'id': 803, 'main': 'Clouds', 'description': ...</td>\n",
       "      <td>10000</td>\n",
       "      <td>0.00</td>\n",
       "      <td>2024-02-10 03:00:00</td>\n",
       "      <td>292.96</td>\n",
       "      <td>293.14</td>\n",
       "      <td>291.68</td>\n",
       "      <td>292.96</td>\n",
       "      <td>1012</td>\n",
       "      <td>1012</td>\n",
       "      <td>987</td>\n",
       "      <td>82</td>\n",
       "      <td>1.28</td>\n",
       "      <td>60</td>\n",
       "      <td>1.97</td>\n",
       "      <td>180</td>\n",
       "      <td>2.48</td>\n",
       "      <td>n</td>\n",
       "      <td>NaN</td>\n",
       "    </tr>\n",
       "    <tr>\n",
       "      <th>1</th>\n",
       "      <td>1707544800</td>\n",
       "      <td>[{'id': 803, 'main': 'Clouds', 'description': ...</td>\n",
       "      <td>10000</td>\n",
       "      <td>0.03</td>\n",
       "      <td>2024-02-10 06:00:00</td>\n",
       "      <td>291.96</td>\n",
       "      <td>292.12</td>\n",
       "      <td>291.14</td>\n",
       "      <td>291.96</td>\n",
       "      <td>1012</td>\n",
       "      <td>1012</td>\n",
       "      <td>986</td>\n",
       "      <td>85</td>\n",
       "      <td>0.82</td>\n",
       "      <td>80</td>\n",
       "      <td>2.72</td>\n",
       "      <td>161</td>\n",
       "      <td>5.67</td>\n",
       "      <td>n</td>\n",
       "      <td>NaN</td>\n",
       "    </tr>\n",
       "    <tr>\n",
       "      <th>2</th>\n",
       "      <td>1707555600</td>\n",
       "      <td>[{'id': 500, 'main': 'Rain', 'description': 'l...</td>\n",
       "      <td>10000</td>\n",
       "      <td>0.60</td>\n",
       "      <td>2024-02-10 09:00:00</td>\n",
       "      <td>290.57</td>\n",
       "      <td>290.69</td>\n",
       "      <td>290.57</td>\n",
       "      <td>290.57</td>\n",
       "      <td>1011</td>\n",
       "      <td>1011</td>\n",
       "      <td>985</td>\n",
       "      <td>89</td>\n",
       "      <td>0.00</td>\n",
       "      <td>100</td>\n",
       "      <td>2.01</td>\n",
       "      <td>193</td>\n",
       "      <td>3.24</td>\n",
       "      <td>n</td>\n",
       "      <td>0.67</td>\n",
       "    </tr>\n",
       "  </tbody>\n",
       "</table>\n",
       "</div>"
      ],
      "text/plain": [
       "           dt                                            weather  visibility  \\\n",
       "0  1707534000  [{'id': 803, 'main': 'Clouds', 'description': ...       10000   \n",
       "1  1707544800  [{'id': 803, 'main': 'Clouds', 'description': ...       10000   \n",
       "2  1707555600  [{'id': 500, 'main': 'Rain', 'description': 'l...       10000   \n",
       "\n",
       "    pop               dt_txt  main.temp  main.feels_like  main.temp_min  \\\n",
       "0  0.00  2024-02-10 03:00:00     292.96           293.14         291.68   \n",
       "1  0.03  2024-02-10 06:00:00     291.96           292.12         291.14   \n",
       "2  0.60  2024-02-10 09:00:00     290.57           290.69         290.57   \n",
       "\n",
       "   main.temp_max  main.pressure  main.sea_level  main.grnd_level  \\\n",
       "0         292.96           1012            1012              987   \n",
       "1         291.96           1012            1012              986   \n",
       "2         290.57           1011            1011              985   \n",
       "\n",
       "   main.humidity  main.temp_kf  clouds.all  wind.speed  wind.deg  wind.gust  \\\n",
       "0             82          1.28          60        1.97       180       2.48   \n",
       "1             85          0.82          80        2.72       161       5.67   \n",
       "2             89          0.00         100        2.01       193       3.24   \n",
       "\n",
       "  sys.pod  rain.3h  \n",
       "0       n      NaN  \n",
       "1       n      NaN  \n",
       "2       n     0.67  "
      ]
     },
     "execution_count": 3,
     "metadata": {},
     "output_type": "execute_result"
    }
   ],
   "source": [
    "# turn data into table\n",
    "df = data2['list']\n",
    "dfnew=pd.json_normalize(df, max_level=1)\n",
    "dfnew.head(3)"
   ]
  },
  {
   "cell_type": "markdown",
   "id": "78bb89d8",
   "metadata": {},
   "source": [
    "###### transfrom 1. extract info out of dictionary"
   ]
  },
  {
   "cell_type": "code",
   "execution_count": 4,
   "id": "e4c1bcc9",
   "metadata": {},
   "outputs": [
    {
     "name": "stdout",
     "output_type": "stream",
     "text": [
      "broken clouds\n",
      "broken clouds\n",
      "light rain\n",
      "light rain\n",
      "light rain\n",
      "light rain\n",
      "moderate rain\n",
      "light rain\n",
      "overcast clouds\n",
      "overcast clouds\n",
      "light rain\n",
      "moderate rain\n",
      "light rain\n",
      "broken clouds\n",
      "clear sky\n",
      "clear sky\n",
      "clear sky\n",
      "scattered clouds\n",
      "scattered clouds\n",
      "broken clouds\n",
      "scattered clouds\n",
      "few clouds\n",
      "clear sky\n",
      "clear sky\n",
      "clear sky\n",
      "clear sky\n",
      "clear sky\n",
      "clear sky\n",
      "clear sky\n",
      "clear sky\n",
      "clear sky\n",
      "clear sky\n",
      "clear sky\n",
      "clear sky\n",
      "clear sky\n",
      "clear sky\n",
      "clear sky\n",
      "clear sky\n",
      "clear sky\n",
      "clear sky\n"
     ]
    }
   ],
   "source": [
    "# weather is a dictionary inside list, so need to take info out. I am interested in weather description\n",
    "# 'wlist' has description of weather at that time\n",
    "w =dfnew['weather']\n",
    "\n",
    "wlist=[]\n",
    "\n",
    "for i in range(len(w)):\n",
    "    a= w[i][0]\n",
    "    print(a['description'])\n",
    "    wlist.append(a['description'])    "
   ]
  },
  {
   "cell_type": "markdown",
   "id": "50910e2d",
   "metadata": {},
   "source": [
    "###### transfrom 2. convert string into date time"
   ]
  },
  {
   "cell_type": "code",
   "execution_count": 5,
   "id": "56488ecf",
   "metadata": {},
   "outputs": [],
   "source": [
    "# currently the date and time info is string. convert it into datetime type, put them into 'fd' list\n",
    "dt =dfnew['dt_txt']\n",
    "\n",
    "fd = []\n",
    "for i in range(len(dt)):\n",
    "    newdate = datetime.datetime.strptime(dt[i], \"%Y-%m-%d %H:%M:%S\")\n",
    "    fd.append(newdate)"
   ]
  },
  {
   "cell_type": "markdown",
   "id": "6e06ba71",
   "metadata": {},
   "source": [
    "###### transform 3. data cleanning by removing column not needed"
   ]
  },
  {
   "cell_type": "code",
   "execution_count": 6,
   "id": "707b7204",
   "metadata": {},
   "outputs": [
    {
     "data": {
      "text/html": [
       "<div>\n",
       "<style scoped>\n",
       "    .dataframe tbody tr th:only-of-type {\n",
       "        vertical-align: middle;\n",
       "    }\n",
       "\n",
       "    .dataframe tbody tr th {\n",
       "        vertical-align: top;\n",
       "    }\n",
       "\n",
       "    .dataframe thead th {\n",
       "        text-align: right;\n",
       "    }\n",
       "</style>\n",
       "<table border=\"1\" class=\"dataframe\">\n",
       "  <thead>\n",
       "    <tr style=\"text-align: right;\">\n",
       "      <th></th>\n",
       "      <th>dt</th>\n",
       "      <th>dt_txt</th>\n",
       "      <th>main.temp</th>\n",
       "      <th>main.feels_like</th>\n",
       "      <th>main.temp_min</th>\n",
       "      <th>main.temp_max</th>\n",
       "      <th>main.pressure</th>\n",
       "      <th>main.sea_level</th>\n",
       "      <th>main.grnd_level</th>\n",
       "      <th>main.humidity</th>\n",
       "      <th>main.temp_kf</th>\n",
       "      <th>clouds.all</th>\n",
       "      <th>wind.speed</th>\n",
       "      <th>wind.deg</th>\n",
       "      <th>wind.gust</th>\n",
       "      <th>sys.pod</th>\n",
       "      <th>rain.3h</th>\n",
       "    </tr>\n",
       "  </thead>\n",
       "  <tbody>\n",
       "    <tr>\n",
       "      <th>0</th>\n",
       "      <td>1707534000</td>\n",
       "      <td>2024-02-10 03:00:00</td>\n",
       "      <td>292.96</td>\n",
       "      <td>293.14</td>\n",
       "      <td>291.68</td>\n",
       "      <td>292.96</td>\n",
       "      <td>1012</td>\n",
       "      <td>1012</td>\n",
       "      <td>987</td>\n",
       "      <td>82</td>\n",
       "      <td>1.28</td>\n",
       "      <td>60</td>\n",
       "      <td>1.97</td>\n",
       "      <td>180</td>\n",
       "      <td>2.48</td>\n",
       "      <td>n</td>\n",
       "      <td>NaN</td>\n",
       "    </tr>\n",
       "    <tr>\n",
       "      <th>1</th>\n",
       "      <td>1707544800</td>\n",
       "      <td>2024-02-10 06:00:00</td>\n",
       "      <td>291.96</td>\n",
       "      <td>292.12</td>\n",
       "      <td>291.14</td>\n",
       "      <td>291.96</td>\n",
       "      <td>1012</td>\n",
       "      <td>1012</td>\n",
       "      <td>986</td>\n",
       "      <td>85</td>\n",
       "      <td>0.82</td>\n",
       "      <td>80</td>\n",
       "      <td>2.72</td>\n",
       "      <td>161</td>\n",
       "      <td>5.67</td>\n",
       "      <td>n</td>\n",
       "      <td>NaN</td>\n",
       "    </tr>\n",
       "    <tr>\n",
       "      <th>2</th>\n",
       "      <td>1707555600</td>\n",
       "      <td>2024-02-10 09:00:00</td>\n",
       "      <td>290.57</td>\n",
       "      <td>290.69</td>\n",
       "      <td>290.57</td>\n",
       "      <td>290.57</td>\n",
       "      <td>1011</td>\n",
       "      <td>1011</td>\n",
       "      <td>985</td>\n",
       "      <td>89</td>\n",
       "      <td>0.00</td>\n",
       "      <td>100</td>\n",
       "      <td>2.01</td>\n",
       "      <td>193</td>\n",
       "      <td>3.24</td>\n",
       "      <td>n</td>\n",
       "      <td>0.67</td>\n",
       "    </tr>\n",
       "  </tbody>\n",
       "</table>\n",
       "</div>"
      ],
      "text/plain": [
       "           dt               dt_txt  main.temp  main.feels_like  main.temp_min  \\\n",
       "0  1707534000  2024-02-10 03:00:00     292.96           293.14         291.68   \n",
       "1  1707544800  2024-02-10 06:00:00     291.96           292.12         291.14   \n",
       "2  1707555600  2024-02-10 09:00:00     290.57           290.69         290.57   \n",
       "\n",
       "   main.temp_max  main.pressure  main.sea_level  main.grnd_level  \\\n",
       "0         292.96           1012            1012              987   \n",
       "1         291.96           1012            1012              986   \n",
       "2         290.57           1011            1011              985   \n",
       "\n",
       "   main.humidity  main.temp_kf  clouds.all  wind.speed  wind.deg  wind.gust  \\\n",
       "0             82          1.28          60        1.97       180       2.48   \n",
       "1             85          0.82          80        2.72       161       5.67   \n",
       "2             89          0.00         100        2.01       193       3.24   \n",
       "\n",
       "  sys.pod  rain.3h  \n",
       "0       n      NaN  \n",
       "1       n      NaN  \n",
       "2       n     0.67  "
      ]
     },
     "execution_count": 6,
     "metadata": {},
     "output_type": "execute_result"
    }
   ],
   "source": [
    "# remove weather, visibility and pop, already extract weather info out.\n",
    "second_df = dfnew.drop(dfnew.columns[[1,2,3]], axis=1)\n",
    "second_df.head(3)"
   ]
  },
  {
   "cell_type": "markdown",
   "id": "acb52679",
   "metadata": {},
   "source": [
    "###### transform 4: construct new data frame by adding additional column"
   ]
  },
  {
   "cell_type": "code",
   "execution_count": 7,
   "id": "a0e57925",
   "metadata": {},
   "outputs": [],
   "source": [
    "# add weather summary and datatime back in\n",
    "second_df['weather'] = wlist\n",
    "second_df['date_time'] = fd"
   ]
  },
  {
   "cell_type": "markdown",
   "id": "000703f5",
   "metadata": {},
   "source": [
    "###### transform 5: rename and data manuipulate "
   ]
  },
  {
   "cell_type": "code",
   "execution_count": 8,
   "id": "d4b9f00a",
   "metadata": {},
   "outputs": [],
   "source": [
    "# rename main.feels_like column\n",
    "second_df.rename(columns = {'main.feels_like':'feel temp in C'}, inplace = True) \n",
    "# convert the temperature to c degree\n",
    "second_df['feel temp in C'] = second_df['feel temp in C']-273.15"
   ]
  },
  {
   "cell_type": "code",
   "execution_count": null,
   "id": "3b2b65b2",
   "metadata": {},
   "outputs": [],
   "source": [
    "#create final df"
   ]
  },
  {
   "cell_type": "code",
   "execution_count": 9,
   "id": "ef728d7c",
   "metadata": {},
   "outputs": [
    {
     "data": {
      "text/html": [
       "<div>\n",
       "<style scoped>\n",
       "    .dataframe tbody tr th:only-of-type {\n",
       "        vertical-align: middle;\n",
       "    }\n",
       "\n",
       "    .dataframe tbody tr th {\n",
       "        vertical-align: top;\n",
       "    }\n",
       "\n",
       "    .dataframe thead th {\n",
       "        text-align: right;\n",
       "    }\n",
       "</style>\n",
       "<table border=\"1\" class=\"dataframe\">\n",
       "  <thead>\n",
       "    <tr style=\"text-align: right;\">\n",
       "      <th></th>\n",
       "      <th>date_time</th>\n",
       "      <th>weather</th>\n",
       "      <th>feel temp in C</th>\n",
       "      <th>wind.speed</th>\n",
       "    </tr>\n",
       "  </thead>\n",
       "  <tbody>\n",
       "    <tr>\n",
       "      <th>0</th>\n",
       "      <td>2024-02-10 03:00:00</td>\n",
       "      <td>broken clouds</td>\n",
       "      <td>19.99</td>\n",
       "      <td>1.97</td>\n",
       "    </tr>\n",
       "    <tr>\n",
       "      <th>1</th>\n",
       "      <td>2024-02-10 06:00:00</td>\n",
       "      <td>broken clouds</td>\n",
       "      <td>18.97</td>\n",
       "      <td>2.72</td>\n",
       "    </tr>\n",
       "    <tr>\n",
       "      <th>2</th>\n",
       "      <td>2024-02-10 09:00:00</td>\n",
       "      <td>light rain</td>\n",
       "      <td>17.54</td>\n",
       "      <td>2.01</td>\n",
       "    </tr>\n",
       "  </tbody>\n",
       "</table>\n",
       "</div>"
      ],
      "text/plain": [
       "            date_time        weather  feel temp in C  wind.speed\n",
       "0 2024-02-10 03:00:00  broken clouds           19.99        1.97\n",
       "1 2024-02-10 06:00:00  broken clouds           18.97        2.72\n",
       "2 2024-02-10 09:00:00     light rain           17.54        2.01"
      ]
     },
     "execution_count": 9,
     "metadata": {},
     "output_type": "execute_result"
    }
   ],
   "source": [
    "final = second_df[['date_time','weather','feel temp in C','wind.speed']]\n",
    "final.head(3)"
   ]
  },
  {
   "cell_type": "markdown",
   "id": "ba0d8abd",
   "metadata": {},
   "source": [
    "###### transform 6. split the date_time to separated columns"
   ]
  },
  {
   "cell_type": "code",
   "execution_count": 10,
   "id": "8f6e9de2",
   "metadata": {},
   "outputs": [
    {
     "name": "stderr",
     "output_type": "stream",
     "text": [
      "C:\\Users\\Daisy\\AppData\\Local\\Temp\\ipykernel_21604\\1718364701.py:10: SettingWithCopyWarning: \n",
      "A value is trying to be set on a copy of a slice from a DataFrame.\n",
      "Try using .loc[row_indexer,col_indexer] = value instead\n",
      "\n",
      "See the caveats in the documentation: https://pandas.pydata.org/pandas-docs/stable/user_guide/indexing.html#returning-a-view-versus-a-copy\n",
      "  final['date']=date\n",
      "C:\\Users\\Daisy\\AppData\\Local\\Temp\\ipykernel_21604\\1718364701.py:11: SettingWithCopyWarning: \n",
      "A value is trying to be set on a copy of a slice from a DataFrame.\n",
      "Try using .loc[row_indexer,col_indexer] = value instead\n",
      "\n",
      "See the caveats in the documentation: https://pandas.pydata.org/pandas-docs/stable/user_guide/indexing.html#returning-a-view-versus-a-copy\n",
      "  final['time']=time\n"
     ]
    }
   ],
   "source": [
    "# need to use original string\n",
    "temp =dfnew['dt_txt']\n",
    "\n",
    "#use space to split date and time\n",
    "new = temp.str.split(\" \", n=1, expand=True)\n",
    "date = new[0]\n",
    "time = new[1]\n",
    "# keep the date_time for charting later\n",
    "#final.drop(columns=[\"date_time\"], inplace=True)\n",
    "final['date']=date\n",
    "final['time']=time"
   ]
  },
  {
   "cell_type": "code",
   "execution_count": 11,
   "id": "b3ee72c2",
   "metadata": {},
   "outputs": [
    {
     "data": {
      "text/html": [
       "<div>\n",
       "<style scoped>\n",
       "    .dataframe tbody tr th:only-of-type {\n",
       "        vertical-align: middle;\n",
       "    }\n",
       "\n",
       "    .dataframe tbody tr th {\n",
       "        vertical-align: top;\n",
       "    }\n",
       "\n",
       "    .dataframe thead th {\n",
       "        text-align: right;\n",
       "    }\n",
       "</style>\n",
       "<table border=\"1\" class=\"dataframe\">\n",
       "  <thead>\n",
       "    <tr style=\"text-align: right;\">\n",
       "      <th></th>\n",
       "      <th>date_time</th>\n",
       "      <th>weather</th>\n",
       "      <th>feel temp in C</th>\n",
       "      <th>wind.speed</th>\n",
       "      <th>date</th>\n",
       "      <th>time</th>\n",
       "    </tr>\n",
       "  </thead>\n",
       "  <tbody>\n",
       "    <tr>\n",
       "      <th>0</th>\n",
       "      <td>2024-02-04 18:00:00</td>\n",
       "      <td>clear sky</td>\n",
       "      <td>14.65</td>\n",
       "      <td>11.42</td>\n",
       "      <td>2024-02-04</td>\n",
       "      <td>18:00:00</td>\n",
       "    </tr>\n",
       "    <tr>\n",
       "      <th>1</th>\n",
       "      <td>2024-02-04 21:00:00</td>\n",
       "      <td>clear sky</td>\n",
       "      <td>15.96</td>\n",
       "      <td>8.77</td>\n",
       "      <td>2024-02-04</td>\n",
       "      <td>21:00:00</td>\n",
       "    </tr>\n",
       "    <tr>\n",
       "      <th>2</th>\n",
       "      <td>2024-02-05 00:00:00</td>\n",
       "      <td>few clouds</td>\n",
       "      <td>14.39</td>\n",
       "      <td>5.39</td>\n",
       "      <td>2024-02-05</td>\n",
       "      <td>00:00:00</td>\n",
       "    </tr>\n",
       "    <tr>\n",
       "      <th>3</th>\n",
       "      <td>2024-02-05 03:00:00</td>\n",
       "      <td>clear sky</td>\n",
       "      <td>11.22</td>\n",
       "      <td>3.98</td>\n",
       "      <td>2024-02-05</td>\n",
       "      <td>03:00:00</td>\n",
       "    </tr>\n",
       "    <tr>\n",
       "      <th>4</th>\n",
       "      <td>2024-02-05 06:00:00</td>\n",
       "      <td>clear sky</td>\n",
       "      <td>10.87</td>\n",
       "      <td>7.24</td>\n",
       "      <td>2024-02-05</td>\n",
       "      <td>06:00:00</td>\n",
       "    </tr>\n",
       "  </tbody>\n",
       "</table>\n",
       "</div>"
      ],
      "text/plain": [
       "            date_time     weather  feel temp in C  wind.speed        date  \\\n",
       "0 2024-02-04 18:00:00   clear sky           14.65       11.42  2024-02-04   \n",
       "1 2024-02-04 21:00:00   clear sky           15.96        8.77  2024-02-04   \n",
       "2 2024-02-05 00:00:00  few clouds           14.39        5.39  2024-02-05   \n",
       "3 2024-02-05 03:00:00   clear sky           11.22        3.98  2024-02-05   \n",
       "4 2024-02-05 06:00:00   clear sky           10.87        7.24  2024-02-05   \n",
       "\n",
       "       time  \n",
       "0  18:00:00  \n",
       "1  21:00:00  \n",
       "2  00:00:00  \n",
       "3  03:00:00  \n",
       "4  06:00:00  "
      ]
     },
     "execution_count": 11,
     "metadata": {},
     "output_type": "execute_result"
    }
   ],
   "source": [
    "final.head()"
   ]
  },
  {
   "cell_type": "markdown",
   "id": "6b972671",
   "metadata": {},
   "source": [
    "###### transfrom 6. checking duplicate and NA"
   ]
  },
  {
   "cell_type": "code",
   "execution_count": 13,
   "id": "37cbc941",
   "metadata": {},
   "outputs": [
    {
     "name": "stdout",
     "output_type": "stream",
     "text": [
      "There are 4 of unique values in weather column out of 40\n",
      "There are 39 of unique values in feel temp in C column out of 40\n",
      "There are 31 of unique values in wind.speed column out of 40\n",
      "There are 6 of unique values in date column out of 40\n",
      "There are 8 of unique values in time column out of 40\n",
      "None\n",
      "variables with NA values\n",
      " weather           0\n",
      "feel temp in C    0\n",
      "wind.speed        0\n",
      "date              0\n",
      "time              0\n",
      "dtype: int64\n"
     ]
    }
   ],
   "source": [
    "cols = final.columns\n",
    "def Unique_Values():\n",
    "    for i in np.arange(0,len(cols)):\n",
    "        print('There are {} of unique values in {} column out of {}'.format(final[cols[i]].nunique(), cols[i], len(final)))\n",
    "print(Unique_Values())\n",
    "\n",
    "print('variables with NA values\\n', final.isna().sum())"
   ]
  },
  {
   "cell_type": "markdown",
   "id": "e73cce5d",
   "metadata": {},
   "source": [
    "###### no empty cell and the duplicate are reasonable"
   ]
  },
  {
   "cell_type": "markdown",
   "id": "1c90ef45",
   "metadata": {},
   "source": [
    "###### transform 7. check outliner"
   ]
  },
  {
   "cell_type": "code",
   "execution_count": 13,
   "id": "a5e903e3",
   "metadata": {},
   "outputs": [
    {
     "name": "stdout",
     "output_type": "stream",
     "text": [
      "looks no dramatic temp changes\n"
     ]
    },
    {
     "data": {
      "image/png": "[encoded data removed]",
      "text/plain": [
       "<Figure size 640x480 with 1 Axes>"
      ]
     },
     "metadata": {},
     "output_type": "display_data"
    }
   ],
   "source": [
    "temp_check = final['feel temp in C']\n",
    "plt.boxplot(temp_check, notch=True)\n",
    "plt.title('Austin airport temp in recent 5 days')\n",
    "plt.ylabel('temprature in Celsius')\n",
    "print('looks no dramatic temp changes')"
   ]
  },
  {
   "cell_type": "code",
   "execution_count": 14,
   "id": "41f9b0f2",
   "metadata": {},
   "outputs": [
    {
     "data": {
      "image/png": "[encoded data removed]",
      "text/plain": [
       "<Figure size 640x480 with 1 Axes>"
      ]
     },
     "metadata": {},
     "output_type": "display_data"
    }
   ],
   "source": [
    "x=final['date_time']\n",
    "y= temp_check\n",
    "plt.plot(x,y)\n",
    "plt.xlabel(\"date\")  # add X-axis label\n",
    "plt.ylabel(\"temp in Celsius degree\")  # add Y-axis label\n",
    "plt.title(\"5 day Austin temp changes in every 3 hours\")  # add title\n",
    "plt.show()"
   ]
  },
  {
   "cell_type": "markdown",
   "id": "69871575",
   "metadata": {},
   "source": [
    "###### end of milestone 4 report"
   ]
  },
  {
   "cell_type": "code",
   "execution_count": 11,
   "id": "5ad5f332",
   "metadata": {},
   "outputs": [],
   "source": [
    "final.to_csv('austin_weather.csv')"
   ]
  },
  {
   "cell_type": "code",
   "execution_count": null,
   "id": "beefe3ac",
   "metadata": {},
   "outputs": [],
   "source": []
  }
 ],
 "metadata": {
  "kernelspec": {
   "display_name": "Python 3 (ipykernel)",
   "language": "python",
   "name": "python3"
  },
  "language_info": {
   "codemirror_mode": {
    "name": "ipython",
    "version": 3
   },
   "file_extension": ".py",
   "mimetype": "text/x-python",
   "name": "python",
   "nbconvert_exporter": "python",
   "pygments_lexer": "ipython3",
   "version": "3.11.4"
  }
 },
 "nbformat": 4,
 "nbformat_minor": 5
}
