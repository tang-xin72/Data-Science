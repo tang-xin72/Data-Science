{
 "cells": [
  {
   "cell_type": "markdown",
   "id": "41e51ca1",
   "metadata": {},
   "source": [
    "## DSC540 project milestone 5\n",
    "#### Author: Xin Tang\n",
    "### date: 2/26/2024\n",
    "\n",
    "#### Merging the Data and Storing in a Database/Visualizing Data"
   ]
  },
  {
   "cell_type": "code",
   "execution_count": 1,
   "id": "938eb9cc",
   "metadata": {},
   "outputs": [],
   "source": [
    "# import package\n",
    "import sqlite3\n",
    "import numpy as np\n",
    "import pandas as pd\n",
    "import matplotlib.pyplot as plt\n",
    "import sqlalchemy as sqla"
   ]
  },
  {
   "cell_type": "code",
   "execution_count": 2,
   "id": "55098bce",
   "metadata": {},
   "outputs": [],
   "source": [
    "# step 1. load data file\n",
    "df_flight = pd.read_csv('Feb-departure.csv')\n",
    "df_IATA = pd.read_csv('IATA_code.csv')\n",
    "df_weather = pd.read_csv('weather_check.csv')"
   ]
  },
  {
   "cell_type": "code",
   "execution_count": 3,
   "id": "ef71762b",
   "metadata": {},
   "outputs": [
    {
     "data": {
      "text/plain": [
       "28"
      ]
     },
     "execution_count": 3,
     "metadata": {},
     "output_type": "execute_result"
    }
   ],
   "source": [
    "#step 2. create/connect to SQLite database\n",
    "\n",
    "# create a db named as Austin_flight\n",
    "\n",
    "connection =sqlite3.connect('Austin_flight.db')\n",
    "\n",
    "#load flight data frame and name table as 'flight_info'\n",
    "df_flight.to_sql('flight_info', connection, if_exists ='replace')\n",
    "#connection.close()\n",
    "\n",
    "#load IATA data frame and name table as 'IATA_info'\n",
    "#connection = sqlite3.connect('IATA.db')\n",
    "df_IATA.to_sql('IATA_info', connection, if_exists ='replace')\n",
    "#connection.close()\n",
    "\n",
    "#load weather data frame and name table as 'weather_info'\n",
    "#connection = sqlite3.connect('weather.db')\n",
    "df_weather.to_sql('weather_info', connection, if_exists ='replace')\n",
    "\n",
    "#connection.close()"
   ]
  },
  {
   "cell_type": "code",
   "execution_count": 4,
   "id": "cd52a157",
   "metadata": {},
   "outputs": [
    {
     "name": "stdout",
     "output_type": "stream",
     "text": [
      "True\n"
     ]
    }
   ],
   "source": [
    "# Confirmed tables have been created successful\n",
    "def is_opened(conn):\n",
    "    try:\n",
    "        connection.execute(\"SELECT * FROM flight_info LIMIT 1\")\n",
    "        return True\n",
    "    except sqlite3.ProgrammingError as e:\n",
    "        print(\"Connection closed {}\".format(e))\n",
    "        return False\n",
    "    \n",
    "print(is_opened(connection)) \n",
    "connection.close()"
   ]
  },
  {
   "cell_type": "code",
   "execution_count": 5,
   "id": "ccb873e4",
   "metadata": {},
   "outputs": [
    {
     "name": "stdout",
     "output_type": "stream",
     "text": [
      "(0, 3376, 2, 1, 'WN', 4811, 'AUS', 'BNA', 556, -4, 0, 0, 'clear sky', 18.0, 8.9, 2, 1, '2/1/2024', '12:00:00', 0, 3, 'Austin', 'AUS', 'AUS', 'Austin Bergstrom International Airport', 'P-L')\n"
     ]
    }
   ],
   "source": [
    "# Join 3 tables together\n",
    "\n",
    "'''\n",
    "use DAY to join the flight_info table with weather_info table\n",
    "use airport code to join flight_ino table with IATA table\n",
    "'''\n",
    "\n",
    "conn = sqlite3.connect('Austin_flight.db')\n",
    "c = conn.cursor()\n",
    "c.execute(\"PRAGMA foreign_keys = 1\")\n",
    "sql = \"\"\"\n",
    "    select * FROM flight_info\n",
    "    JOIN weather_info ON flight_info.DAY = weather_info.DAY\n",
    "    JOIN IATA_info ON flight_info.ORIGIN_AIRPORT = IATA_info.IATA\n",
    "    WHERE IATA_info.IATA = 'AUS'\n",
    "\"\"\"    \n",
    "\n",
    "#print out first row to validate the join is successful\n",
    "rows = c.execute(sql)\n",
    "for row in rows:\n",
    "    print(row)\n",
    "    break"
   ]
  },
  {
   "cell_type": "code",
   "execution_count": 6,
   "id": "9bf2f066",
   "metadata": {},
   "outputs": [
    {
     "data": {
      "text/html": [
       "<div>\n",
       "<style scoped>\n",
       "    .dataframe tbody tr th:only-of-type {\n",
       "        vertical-align: middle;\n",
       "    }\n",
       "\n",
       "    .dataframe tbody tr th {\n",
       "        vertical-align: top;\n",
       "    }\n",
       "\n",
       "    .dataframe thead th {\n",
       "        text-align: right;\n",
       "    }\n",
       "</style>\n",
       "<table border=\"1\" class=\"dataframe\">\n",
       "  <thead>\n",
       "    <tr style=\"text-align: right;\">\n",
       "      <th></th>\n",
       "      <th>s1</th>\n",
       "      <th>serial</th>\n",
       "      <th>month</th>\n",
       "      <th>day</th>\n",
       "      <th>airline</th>\n",
       "      <th>flight_number</th>\n",
       "      <th>from</th>\n",
       "      <th>destination</th>\n",
       "      <th>depart_time</th>\n",
       "      <th>delay</th>\n",
       "      <th>...</th>\n",
       "      <th>day2</th>\n",
       "      <th>date</th>\n",
       "      <th>time</th>\n",
       "      <th>s2</th>\n",
       "      <th>s4</th>\n",
       "      <th>City</th>\n",
       "      <th>FAA</th>\n",
       "      <th>IATA</th>\n",
       "      <th>airport name</th>\n",
       "      <th>role</th>\n",
       "    </tr>\n",
       "  </thead>\n",
       "  <tbody>\n",
       "    <tr>\n",
       "      <th>0</th>\n",
       "      <td>0</td>\n",
       "      <td>3376</td>\n",
       "      <td>2</td>\n",
       "      <td>1</td>\n",
       "      <td>WN</td>\n",
       "      <td>4811</td>\n",
       "      <td>AUS</td>\n",
       "      <td>BNA</td>\n",
       "      <td>556</td>\n",
       "      <td>-4</td>\n",
       "      <td>...</td>\n",
       "      <td>1</td>\n",
       "      <td>2/1/2024</td>\n",
       "      <td>12:00:00</td>\n",
       "      <td>0</td>\n",
       "      <td>3</td>\n",
       "      <td>Austin</td>\n",
       "      <td>AUS</td>\n",
       "      <td>AUS</td>\n",
       "      <td>Austin Bergstrom International Airport</td>\n",
       "      <td>P-L</td>\n",
       "    </tr>\n",
       "    <tr>\n",
       "      <th>1</th>\n",
       "      <td>1</td>\n",
       "      <td>3377</td>\n",
       "      <td>2</td>\n",
       "      <td>1</td>\n",
       "      <td>OO</td>\n",
       "      <td>6235</td>\n",
       "      <td>AUS</td>\n",
       "      <td>SFO</td>\n",
       "      <td>600</td>\n",
       "      <td>0</td>\n",
       "      <td>...</td>\n",
       "      <td>1</td>\n",
       "      <td>2/1/2024</td>\n",
       "      <td>12:00:00</td>\n",
       "      <td>0</td>\n",
       "      <td>3</td>\n",
       "      <td>Austin</td>\n",
       "      <td>AUS</td>\n",
       "      <td>AUS</td>\n",
       "      <td>Austin Bergstrom International Airport</td>\n",
       "      <td>P-L</td>\n",
       "    </tr>\n",
       "    <tr>\n",
       "      <th>2</th>\n",
       "      <td>2</td>\n",
       "      <td>3378</td>\n",
       "      <td>2</td>\n",
       "      <td>1</td>\n",
       "      <td>B6</td>\n",
       "      <td>794</td>\n",
       "      <td>AUS</td>\n",
       "      <td>JFK</td>\n",
       "      <td>558</td>\n",
       "      <td>-9</td>\n",
       "      <td>...</td>\n",
       "      <td>1</td>\n",
       "      <td>2/1/2024</td>\n",
       "      <td>12:00:00</td>\n",
       "      <td>0</td>\n",
       "      <td>3</td>\n",
       "      <td>Austin</td>\n",
       "      <td>AUS</td>\n",
       "      <td>AUS</td>\n",
       "      <td>Austin Bergstrom International Airport</td>\n",
       "      <td>P-L</td>\n",
       "    </tr>\n",
       "    <tr>\n",
       "      <th>3</th>\n",
       "      <td>3</td>\n",
       "      <td>3379</td>\n",
       "      <td>2</td>\n",
       "      <td>1</td>\n",
       "      <td>DL</td>\n",
       "      <td>1984</td>\n",
       "      <td>AUS</td>\n",
       "      <td>ATL</td>\n",
       "      <td>627</td>\n",
       "      <td>-3</td>\n",
       "      <td>...</td>\n",
       "      <td>1</td>\n",
       "      <td>2/1/2024</td>\n",
       "      <td>12:00:00</td>\n",
       "      <td>0</td>\n",
       "      <td>3</td>\n",
       "      <td>Austin</td>\n",
       "      <td>AUS</td>\n",
       "      <td>AUS</td>\n",
       "      <td>Austin Bergstrom International Airport</td>\n",
       "      <td>P-L</td>\n",
       "    </tr>\n",
       "    <tr>\n",
       "      <th>4</th>\n",
       "      <td>4</td>\n",
       "      <td>3380</td>\n",
       "      <td>2</td>\n",
       "      <td>1</td>\n",
       "      <td>WN</td>\n",
       "      <td>4541</td>\n",
       "      <td>AUS</td>\n",
       "      <td>BWI</td>\n",
       "      <td>627</td>\n",
       "      <td>-3</td>\n",
       "      <td>...</td>\n",
       "      <td>1</td>\n",
       "      <td>2/1/2024</td>\n",
       "      <td>12:00:00</td>\n",
       "      <td>0</td>\n",
       "      <td>3</td>\n",
       "      <td>Austin</td>\n",
       "      <td>AUS</td>\n",
       "      <td>AUS</td>\n",
       "      <td>Austin Bergstrom International Airport</td>\n",
       "      <td>P-L</td>\n",
       "    </tr>\n",
       "  </tbody>\n",
       "</table>\n",
       "<p>5 rows × 26 columns</p>\n",
       "</div>"
      ],
      "text/plain": [
       "   s1  serial  month  day airline  flight_number from destination  \\\n",
       "0   0    3376      2    1      WN           4811  AUS         BNA   \n",
       "1   1    3377      2    1      OO           6235  AUS         SFO   \n",
       "2   2    3378      2    1      B6            794  AUS         JFK   \n",
       "3   3    3379      2    1      DL           1984  AUS         ATL   \n",
       "4   4    3380      2    1      WN           4541  AUS         BWI   \n",
       "\n",
       "   depart_time  delay  ...  day2      date      time  s2  s4    City  FAA  \\\n",
       "0          556     -4  ...     1  2/1/2024  12:00:00   0   3  Austin  AUS   \n",
       "1          600      0  ...     1  2/1/2024  12:00:00   0   3  Austin  AUS   \n",
       "2          558     -9  ...     1  2/1/2024  12:00:00   0   3  Austin  AUS   \n",
       "3          627     -3  ...     1  2/1/2024  12:00:00   0   3  Austin  AUS   \n",
       "4          627     -3  ...     1  2/1/2024  12:00:00   0   3  Austin  AUS   \n",
       "\n",
       "  IATA                            airport name  role  \n",
       "0  AUS  Austin Bergstrom International Airport   P-L  \n",
       "1  AUS  Austin Bergstrom International Airport   P-L  \n",
       "2  AUS  Austin Bergstrom International Airport   P-L  \n",
       "3  AUS  Austin Bergstrom International Airport   P-L  \n",
       "4  AUS  Austin Bergstrom International Airport   P-L  \n",
       "\n",
       "[5 rows x 26 columns]"
      ]
     },
     "execution_count": 6,
     "metadata": {},
     "output_type": "execute_result"
    }
   ],
   "source": [
    "#export dataset to a dataframe for visualization\n",
    "# the dataframe has all columns of all 3 tables.\n",
    "data =[]\n",
    "columns = ['s1','serial', 'month','day','airline','flight_number','from','destination','depart_time','delay','cancelled','s2',\n",
    "           'weather','temp_in_c','wind_speed','month2','day2','date','time','s2','s4','City','FAA','IATA','airport name',\n",
    "           'role'\n",
    "          ]\n",
    "\n",
    "rows = c.execute(sql)\n",
    "for row in rows:\n",
    "    data.append(row)\n",
    "    \n",
    "df = pd.DataFrame(data, columns=columns)    \n",
    "df.head()"
   ]
  },
  {
   "cell_type": "code",
   "execution_count": 7,
   "id": "e63f6c2f",
   "metadata": {},
   "outputs": [
    {
     "data": {
      "text/html": [
       "<div>\n",
       "<style scoped>\n",
       "    .dataframe tbody tr th:only-of-type {\n",
       "        vertical-align: middle;\n",
       "    }\n",
       "\n",
       "    .dataframe tbody tr th {\n",
       "        vertical-align: top;\n",
       "    }\n",
       "\n",
       "    .dataframe thead th {\n",
       "        text-align: right;\n",
       "    }\n",
       "</style>\n",
       "<table border=\"1\" class=\"dataframe\">\n",
       "  <thead>\n",
       "    <tr style=\"text-align: right;\">\n",
       "      <th></th>\n",
       "      <th>month</th>\n",
       "      <th>day</th>\n",
       "      <th>airline</th>\n",
       "      <th>flight_number</th>\n",
       "      <th>destination</th>\n",
       "      <th>delay</th>\n",
       "      <th>weather</th>\n",
       "      <th>temp_in_c</th>\n",
       "      <th>wind_speed</th>\n",
       "      <th>airport name</th>\n",
       "    </tr>\n",
       "  </thead>\n",
       "  <tbody>\n",
       "    <tr>\n",
       "      <th>0</th>\n",
       "      <td>2</td>\n",
       "      <td>1</td>\n",
       "      <td>WN</td>\n",
       "      <td>4811</td>\n",
       "      <td>BNA</td>\n",
       "      <td>-4</td>\n",
       "      <td>clear sky</td>\n",
       "      <td>18.0</td>\n",
       "      <td>8.9</td>\n",
       "      <td>Austin Bergstrom International Airport</td>\n",
       "    </tr>\n",
       "    <tr>\n",
       "      <th>1</th>\n",
       "      <td>2</td>\n",
       "      <td>1</td>\n",
       "      <td>OO</td>\n",
       "      <td>6235</td>\n",
       "      <td>SFO</td>\n",
       "      <td>0</td>\n",
       "      <td>clear sky</td>\n",
       "      <td>18.0</td>\n",
       "      <td>8.9</td>\n",
       "      <td>Austin Bergstrom International Airport</td>\n",
       "    </tr>\n",
       "    <tr>\n",
       "      <th>2</th>\n",
       "      <td>2</td>\n",
       "      <td>1</td>\n",
       "      <td>B6</td>\n",
       "      <td>794</td>\n",
       "      <td>JFK</td>\n",
       "      <td>-9</td>\n",
       "      <td>clear sky</td>\n",
       "      <td>18.0</td>\n",
       "      <td>8.9</td>\n",
       "      <td>Austin Bergstrom International Airport</td>\n",
       "    </tr>\n",
       "    <tr>\n",
       "      <th>3</th>\n",
       "      <td>2</td>\n",
       "      <td>1</td>\n",
       "      <td>DL</td>\n",
       "      <td>1984</td>\n",
       "      <td>ATL</td>\n",
       "      <td>-3</td>\n",
       "      <td>clear sky</td>\n",
       "      <td>18.0</td>\n",
       "      <td>8.9</td>\n",
       "      <td>Austin Bergstrom International Airport</td>\n",
       "    </tr>\n",
       "    <tr>\n",
       "      <th>4</th>\n",
       "      <td>2</td>\n",
       "      <td>1</td>\n",
       "      <td>WN</td>\n",
       "      <td>4541</td>\n",
       "      <td>BWI</td>\n",
       "      <td>-3</td>\n",
       "      <td>clear sky</td>\n",
       "      <td>18.0</td>\n",
       "      <td>8.9</td>\n",
       "      <td>Austin Bergstrom International Airport</td>\n",
       "    </tr>\n",
       "  </tbody>\n",
       "</table>\n",
       "</div>"
      ],
      "text/plain": [
       "   month  day airline  flight_number destination  delay    weather  temp_in_c  \\\n",
       "0      2    1      WN           4811         BNA     -4  clear sky       18.0   \n",
       "1      2    1      OO           6235         SFO      0  clear sky       18.0   \n",
       "2      2    1      B6            794         JFK     -9  clear sky       18.0   \n",
       "3      2    1      DL           1984         ATL     -3  clear sky       18.0   \n",
       "4      2    1      WN           4541         BWI     -3  clear sky       18.0   \n",
       "\n",
       "   wind_speed                            airport name  \n",
       "0         8.9  Austin Bergstrom International Airport  \n",
       "1         8.9  Austin Bergstrom International Airport  \n",
       "2         8.9  Austin Bergstrom International Airport  \n",
       "3         8.9  Austin Bergstrom International Airport  \n",
       "4         8.9  Austin Bergstrom International Airport  "
      ]
     },
     "execution_count": 7,
     "metadata": {},
     "output_type": "execute_result"
    }
   ],
   "source": [
    "# create new df with less columns\n",
    "new_df = df[['month','day', 'airline','flight_number', 'destination','delay', 'weather','temp_in_c','wind_speed', 'airport name']]\n",
    "new_df.head()"
   ]
  },
  {
   "cell_type": "code",
   "execution_count": 9,
   "id": "9020335f",
   "metadata": {},
   "outputs": [
    {
     "data": {
      "text/html": [
       "<div>\n",
       "<style scoped>\n",
       "    .dataframe tbody tr th:only-of-type {\n",
       "        vertical-align: middle;\n",
       "    }\n",
       "\n",
       "    .dataframe tbody tr th {\n",
       "        vertical-align: top;\n",
       "    }\n",
       "\n",
       "    .dataframe thead th {\n",
       "        text-align: right;\n",
       "    }\n",
       "</style>\n",
       "<table border=\"1\" class=\"dataframe\">\n",
       "  <thead>\n",
       "    <tr style=\"text-align: right;\">\n",
       "      <th></th>\n",
       "      <th>month</th>\n",
       "      <th>day</th>\n",
       "      <th>airline</th>\n",
       "      <th>flight_number</th>\n",
       "      <th>destination</th>\n",
       "      <th>delay</th>\n",
       "      <th>weather</th>\n",
       "      <th>temp_in_c</th>\n",
       "      <th>wind_speed</th>\n",
       "      <th>airport name</th>\n",
       "    </tr>\n",
       "  </thead>\n",
       "  <tbody>\n",
       "    <tr>\n",
       "      <th>5</th>\n",
       "      <td>2</td>\n",
       "      <td>1</td>\n",
       "      <td>AA</td>\n",
       "      <td>1595</td>\n",
       "      <td>DFW</td>\n",
       "      <td>-6</td>\n",
       "      <td>clear sky</td>\n",
       "      <td>18.0</td>\n",
       "      <td>8.9</td>\n",
       "      <td>Austin Bergstrom International Airport</td>\n",
       "    </tr>\n",
       "    <tr>\n",
       "      <th>8</th>\n",
       "      <td>2</td>\n",
       "      <td>1</td>\n",
       "      <td>AA</td>\n",
       "      <td>1616</td>\n",
       "      <td>DFW</td>\n",
       "      <td>-9</td>\n",
       "      <td>clear sky</td>\n",
       "      <td>18.0</td>\n",
       "      <td>8.9</td>\n",
       "      <td>Austin Bergstrom International Airport</td>\n",
       "    </tr>\n",
       "    <tr>\n",
       "      <th>15</th>\n",
       "      <td>2</td>\n",
       "      <td>1</td>\n",
       "      <td>AA</td>\n",
       "      <td>1296</td>\n",
       "      <td>DFW</td>\n",
       "      <td>-5</td>\n",
       "      <td>clear sky</td>\n",
       "      <td>18.0</td>\n",
       "      <td>8.9</td>\n",
       "      <td>Austin Bergstrom International Airport</td>\n",
       "    </tr>\n",
       "    <tr>\n",
       "      <th>20</th>\n",
       "      <td>2</td>\n",
       "      <td>1</td>\n",
       "      <td>AA</td>\n",
       "      <td>1356</td>\n",
       "      <td>DFW</td>\n",
       "      <td>-7</td>\n",
       "      <td>clear sky</td>\n",
       "      <td>18.0</td>\n",
       "      <td>8.9</td>\n",
       "      <td>Austin Bergstrom International Airport</td>\n",
       "    </tr>\n",
       "    <tr>\n",
       "      <th>23</th>\n",
       "      <td>2</td>\n",
       "      <td>1</td>\n",
       "      <td>AA</td>\n",
       "      <td>1494</td>\n",
       "      <td>DFW</td>\n",
       "      <td>-4</td>\n",
       "      <td>clear sky</td>\n",
       "      <td>18.0</td>\n",
       "      <td>8.9</td>\n",
       "      <td>Austin Bergstrom International Airport</td>\n",
       "    </tr>\n",
       "    <tr>\n",
       "      <th>...</th>\n",
       "      <td>...</td>\n",
       "      <td>...</td>\n",
       "      <td>...</td>\n",
       "      <td>...</td>\n",
       "      <td>...</td>\n",
       "      <td>...</td>\n",
       "      <td>...</td>\n",
       "      <td>...</td>\n",
       "      <td>...</td>\n",
       "      <td>...</td>\n",
       "    </tr>\n",
       "    <tr>\n",
       "      <th>2840</th>\n",
       "      <td>2</td>\n",
       "      <td>27</td>\n",
       "      <td>AA</td>\n",
       "      <td>1484</td>\n",
       "      <td>DFW</td>\n",
       "      <td>57</td>\n",
       "      <td>clear sky</td>\n",
       "      <td>19.1</td>\n",
       "      <td>5.6</td>\n",
       "      <td>Austin Bergstrom International Airport</td>\n",
       "    </tr>\n",
       "    <tr>\n",
       "      <th>2846</th>\n",
       "      <td>2</td>\n",
       "      <td>27</td>\n",
       "      <td>AA</td>\n",
       "      <td>2242</td>\n",
       "      <td>DFW</td>\n",
       "      <td>43</td>\n",
       "      <td>clear sky</td>\n",
       "      <td>19.1</td>\n",
       "      <td>5.6</td>\n",
       "      <td>Austin Bergstrom International Airport</td>\n",
       "    </tr>\n",
       "    <tr>\n",
       "      <th>2921</th>\n",
       "      <td>2</td>\n",
       "      <td>28</td>\n",
       "      <td>AA</td>\n",
       "      <td>1616</td>\n",
       "      <td>DFW</td>\n",
       "      <td>41</td>\n",
       "      <td>overcast clouds</td>\n",
       "      <td>21.0</td>\n",
       "      <td>4.9</td>\n",
       "      <td>Austin Bergstrom International Airport</td>\n",
       "    </tr>\n",
       "    <tr>\n",
       "      <th>2952</th>\n",
       "      <td>2</td>\n",
       "      <td>28</td>\n",
       "      <td>AA</td>\n",
       "      <td>1083</td>\n",
       "      <td>DFW</td>\n",
       "      <td>-4</td>\n",
       "      <td>overcast clouds</td>\n",
       "      <td>21.0</td>\n",
       "      <td>4.9</td>\n",
       "      <td>Austin Bergstrom International Airport</td>\n",
       "    </tr>\n",
       "    <tr>\n",
       "      <th>2958</th>\n",
       "      <td>2</td>\n",
       "      <td>28</td>\n",
       "      <td>AA</td>\n",
       "      <td>2297</td>\n",
       "      <td>DFW</td>\n",
       "      <td>-3</td>\n",
       "      <td>overcast clouds</td>\n",
       "      <td>21.0</td>\n",
       "      <td>4.9</td>\n",
       "      <td>Austin Bergstrom International Airport</td>\n",
       "    </tr>\n",
       "  </tbody>\n",
       "</table>\n",
       "<p>348 rows × 10 columns</p>\n",
       "</div>"
      ],
      "text/plain": [
       "      month  day airline  flight_number destination  delay          weather  \\\n",
       "5         2    1      AA           1595         DFW     -6        clear sky   \n",
       "8         2    1      AA           1616         DFW     -9        clear sky   \n",
       "15        2    1      AA           1296         DFW     -5        clear sky   \n",
       "20        2    1      AA           1356         DFW     -7        clear sky   \n",
       "23        2    1      AA           1494         DFW     -4        clear sky   \n",
       "...     ...  ...     ...            ...         ...    ...              ...   \n",
       "2840      2   27      AA           1484         DFW     57        clear sky   \n",
       "2846      2   27      AA           2242         DFW     43        clear sky   \n",
       "2921      2   28      AA           1616         DFW     41  overcast clouds   \n",
       "2952      2   28      AA           1083         DFW     -4  overcast clouds   \n",
       "2958      2   28      AA           2297         DFW     -3  overcast clouds   \n",
       "\n",
       "      temp_in_c  wind_speed                            airport name  \n",
       "5          18.0         8.9  Austin Bergstrom International Airport  \n",
       "8          18.0         8.9  Austin Bergstrom International Airport  \n",
       "15         18.0         8.9  Austin Bergstrom International Airport  \n",
       "20         18.0         8.9  Austin Bergstrom International Airport  \n",
       "23         18.0         8.9  Austin Bergstrom International Airport  \n",
       "...         ...         ...                                     ...  \n",
       "2840       19.1         5.6  Austin Bergstrom International Airport  \n",
       "2846       19.1         5.6  Austin Bergstrom International Airport  \n",
       "2921       21.0         4.9  Austin Bergstrom International Airport  \n",
       "2952       21.0         4.9  Austin Bergstrom International Airport  \n",
       "2958       21.0         4.9  Austin Bergstrom International Airport  \n",
       "\n",
       "[348 rows x 10 columns]"
      ]
     },
     "execution_count": 9,
     "metadata": {},
     "output_type": "execute_result"
    }
   ],
   "source": [
    "# select American flight to DFW for analysis\n",
    "# this will be the dataframe to do plot\n",
    "df2 =new_df[(new_df['airline']=='AA') & (new_df['destination']=='DFW')]\n",
    "df2"
   ]
  },
  {
   "cell_type": "markdown",
   "id": "b25a4422",
   "metadata": {},
   "source": [
    "###### Above is the final dataset after all transformation, including informations from all 3 data resources."
   ]
  },
  {
   "cell_type": "markdown",
   "id": "076b80a7",
   "metadata": {},
   "source": [
    "###### Visualization 1. box plot of delay time"
   ]
  },
  {
   "cell_type": "code",
   "execution_count": 11,
   "id": "e9e1ddde",
   "metadata": {},
   "outputs": [
    {
     "data": {
      "text/plain": [
       "Text(0, 0.5, 'delay in mins')"
      ]
     },
     "execution_count": 11,
     "metadata": {},
     "output_type": "execute_result"
    },
    {
     "data": {
      "image/png": "[encoded data removed]",
      "text/plain": [
       "<Figure size 640x480 with 1 Axes>"
      ]
     },
     "metadata": {},
     "output_type": "display_data"
    }
   ],
   "source": [
    "# find outliner of flight delay times\n",
    "plt.boxplot(df2.delay, notch=True)\n",
    "plt.title('Austin to Dallas American airline flight delay time in Feb')\n",
    "plt.ylabel('delay in mins')"
   ]
  },
  {
   "cell_type": "markdown",
   "id": "2a9a07a8",
   "metadata": {},
   "source": [
    "###### Visualization 2.  scatter chart  between delay and weather (data from 2 data table)"
   ]
  },
  {
   "cell_type": "code",
   "execution_count": 32,
   "id": "9292cfb3",
   "metadata": {},
   "outputs": [
    {
     "data": {
      "image/png": "[encoded data removed]",
      "text/plain": [
       "<Figure size 640x480 with 1 Axes>"
      ]
     },
     "metadata": {},
     "output_type": "display_data"
    }
   ],
   "source": [
    "plt.scatter(df2.weather, df2.delay)\n",
    "plt.title(\"delay time vs. weather\", fontsize=18)\n",
    "plt.xlabel(\"weather\",fontsize=15)\n",
    "plt.ylabel(\"delay time\",fontsize=15)\n",
    "plt.show()"
   ]
  },
  {
   "cell_type": "markdown",
   "id": "1cf0a5aa",
   "metadata": {},
   "source": [
    "###### Visualization 3.  pie chart  of weather"
   ]
  },
  {
   "cell_type": "code",
   "execution_count": 34,
   "id": "18c18d49",
   "metadata": {},
   "outputs": [
    {
     "data": {
      "text/plain": [
       "Text(0.5, 1.0, 'Austin airport Feb weather summary')"
      ]
     },
     "execution_count": 34,
     "metadata": {},
     "output_type": "execute_result"
    },
    {
     "data": {
      "image/png": "[encoded data removed]",
      "text/plain": [
       "<Figure size 640x480 with 1 Axes>"
      ]
     },
     "metadata": {},
     "output_type": "display_data"
    }
   ],
   "source": [
    "data =df2.weather.value_counts()\n",
    "\n",
    "data.plot(kind='pie', autopct='%0.1f%%')\n",
    "plt.title('Austin airport Feb weather summary')"
   ]
  },
  {
   "cell_type": "markdown",
   "id": "bf659daa",
   "metadata": {},
   "source": [
    "###### Visualization 4.  histogram chart  of temprature"
   ]
  },
  {
   "cell_type": "code",
   "execution_count": 38,
   "id": "6a6d63b5",
   "metadata": {},
   "outputs": [
    {
     "data": {
      "image/png": "[encoded data removed]",
      "text/plain": [
       "<Figure size 640x480 with 1 Axes>"
      ]
     },
     "metadata": {},
     "output_type": "display_data"
    }
   ],
   "source": [
    "plt.title(\"Austin Temprature in Feb (in degree C)\",fontsize=15)\n",
    "plt.hist(df2['temp_in_c'],bins=18)\n",
    "plt.show()"
   ]
  },
  {
   "cell_type": "markdown",
   "id": "ebf6f8c8",
   "metadata": {},
   "source": [
    "###### Visualization 5.  scatter chart of delay and wind (data from 2 data table)"
   ]
  },
  {
   "cell_type": "code",
   "execution_count": 37,
   "id": "43cf3311",
   "metadata": {},
   "outputs": [
    {
     "data": {
      "image/png": "[encoded data removed]",
      "text/plain": [
       "<Figure size 640x480 with 1 Axes>"
      ]
     },
     "metadata": {},
     "output_type": "display_data"
    }
   ],
   "source": [
    "plt.scatter(df2.temp_in_c, df2.delay)\n",
    "plt.title(\"delay time vs. temp_in_c\", fontsize=18)\n",
    "plt.xlabel(\"Airport tempature\",fontsize=15)\n",
    "plt.ylabel(\"delay time\",fontsize=15)\n",
    "plt.show()"
   ]
  },
  {
   "cell_type": "markdown",
   "id": "c7ae4afb",
   "metadata": {},
   "source": [
    "###### see above output 10 for the final dataset"
   ]
  },
  {
   "cell_type": "markdown",
   "id": "6f4e0df3",
   "metadata": {},
   "source": [
    "######  Summary: Learning and Ethical implcations"
   ]
  },
  {
   "cell_type": "markdown",
   "id": "3ea0dad5",
   "metadata": {},
   "source": [
    "In past few DSC courses, I has get a taste of using python dataframe and make API call. This course is first time to combine everything together for a purpose. \n",
    "\n",
    "My first big learning is extracting website info, plus cleanning and transformation. Each website has a differnt way to structure data and tables, there are different ways to handle them as well. Through the exercises, reading materials and youtube, I felt more confident now to get table/data out of a web page. \n",
    "\n",
    "My second big learning is the grouping, split/apply/combine the data. This step is crucial to the success of a clean dataset. some basic concepts are same among SQL, R and python. the assignments gave me plenty of exercises and I felt there are much more to learn.\n",
    "\n",
    "My third big learning is the SQL. I used power BI before but SQL is the backbone of the database. Through the last 2 weeks assignment and last milestone exercise, I am glad to get some basic ideas and methods on how to load, join and extract data in and out of SQL database. I am looking forward to learn more on SQL and database structure.\n",
    "\n",
    "My forth big learning is the regular expression. text/string data is a common data resource. Though the syntax is easy, applying them logically to extract data correctly is an art. I exercised different combinations to get the right result out and got a better understand on how to combine different rules together like AND /OR.\n",
    "\n",
    "Overall I am a green hand in coding and data science, I really appreciate the learning from this class, including learning from the summary video from professor and post from classmate."
   ]
  },
  {
   "cell_type": "markdown",
   "id": "f1fdc412",
   "metadata": {},
   "source": [
    "###### Ethical implications\n"
   ]
  },
  {
   "cell_type": "markdown",
   "id": "8327a85b",
   "metadata": {},
   "source": [
    "Ethically, data has a price tag and impact final user's decision making. Also it is a team work to process data, from extract data, clean data, transform data and final analysis to draw conclusion. so data analyst and scientist has both technical responsibility and social responsibility. \n",
    "\n",
    "Even in a small and simple project like mine. I run into challanges of how to get data without violating any IP and how to access the data. For data in real business world, I may need to sign a NDA (no discolure agreement) before access the data. \n",
    "\n",
    "besides, the data and data wrangling steps are being reviewed by others, so I constantly check result after each transformation to ensure it yields what I am expecting. I would definitely add plenty comments and good summary to ensure next person or user know what the dataset is for, and, where is the limitation. \n",
    "\n",
    "Another aspect how data will be used and impact others life. Even though due to scope and purpose of the projects, I do not need to worry about the data authenticity of the data. I also do not need to concern the user and potential usage of the data output. these are all factors need to be considered carefully in a real business or social world. for example, a wrong link of flight and weather will impact travler's decision on how to travel and when to travel. "
   ]
  }
 ],
 "metadata": {
  "kernelspec": {
   "display_name": "Python 3 (ipykernel)",
   "language": "python",
   "name": "python3"
  },
  "language_info": {
   "codemirror_mode": {
    "name": "ipython",
    "version": 3
   },
   "file_extension": ".py",
   "mimetype": "text/x-python",
   "name": "python",
   "nbconvert_exporter": "python",
   "pygments_lexer": "ipython3",
   "version": "3.11.4"
  }
 },
 "nbformat": 4,
 "nbformat_minor": 5
}
