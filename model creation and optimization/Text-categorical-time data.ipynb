{
 "cells": [
  {
   "cell_type": "markdown",
   "id": "5b459575",
   "metadata": {},
   "source": [
    "## DSC550\n",
    "##### Week3 assignment, Author: Xin Tang, 3/30/24"
   ]
  },
  {
   "cell_type": "markdown",
   "id": "a418e0d3",
   "metadata": {},
   "source": [
    "#### Part I. Using the TextBlob Sentiment Analyzer, as well as Vader"
   ]
  },
  {
   "cell_type": "code",
   "execution_count": 1,
   "id": "dee924fc",
   "metadata": {},
   "outputs": [],
   "source": [
    "# Load packages first\n",
    "import numpy as np \n",
    "import pandas as pd"
   ]
  },
  {
   "cell_type": "code",
   "execution_count": 2,
   "id": "042e6f3c",
   "metadata": {},
   "outputs": [],
   "source": [
    "# load the data frame\n",
    "df = pd.read_csv('labeledTrainData.tsv', delimiter='\\t')"
   ]
  },
  {
   "cell_type": "code",
   "execution_count": 3,
   "id": "38592378",
   "metadata": {},
   "outputs": [
    {
     "data": {
      "text/html": [
       "<div>\n",
       "<style scoped>\n",
       "    .dataframe tbody tr th:only-of-type {\n",
       "        vertical-align: middle;\n",
       "    }\n",
       "\n",
       "    .dataframe tbody tr th {\n",
       "        vertical-align: top;\n",
       "    }\n",
       "\n",
       "    .dataframe thead th {\n",
       "        text-align: right;\n",
       "    }\n",
       "</style>\n",
       "<table border=\"1\" class=\"dataframe\">\n",
       "  <thead>\n",
       "    <tr style=\"text-align: right;\">\n",
       "      <th></th>\n",
       "      <th>id</th>\n",
       "      <th>sentiment</th>\n",
       "      <th>review</th>\n",
       "    </tr>\n",
       "  </thead>\n",
       "  <tbody>\n",
       "    <tr>\n",
       "      <th>0</th>\n",
       "      <td>5814_8</td>\n",
       "      <td>1</td>\n",
       "      <td>With all this stuff going down at the moment w...</td>\n",
       "    </tr>\n",
       "    <tr>\n",
       "      <th>1</th>\n",
       "      <td>2381_9</td>\n",
       "      <td>1</td>\n",
       "      <td>\\The Classic War of the Worlds\\\" by Timothy Hi...</td>\n",
       "    </tr>\n",
       "    <tr>\n",
       "      <th>2</th>\n",
       "      <td>7759_3</td>\n",
       "      <td>0</td>\n",
       "      <td>The film starts with a manager (Nicholas Bell)...</td>\n",
       "    </tr>\n",
       "    <tr>\n",
       "      <th>3</th>\n",
       "      <td>3630_4</td>\n",
       "      <td>0</td>\n",
       "      <td>It must be assumed that those who praised this...</td>\n",
       "    </tr>\n",
       "    <tr>\n",
       "      <th>4</th>\n",
       "      <td>9495_8</td>\n",
       "      <td>1</td>\n",
       "      <td>Superbly trashy and wondrously unpretentious 8...</td>\n",
       "    </tr>\n",
       "  </tbody>\n",
       "</table>\n",
       "</div>"
      ],
      "text/plain": [
       "       id  sentiment                                             review\n",
       "0  5814_8          1  With all this stuff going down at the moment w...\n",
       "1  2381_9          1  \\The Classic War of the Worlds\\\" by Timothy Hi...\n",
       "2  7759_3          0  The film starts with a manager (Nicholas Bell)...\n",
       "3  3630_4          0  It must be assumed that those who praised this...\n",
       "4  9495_8          1  Superbly trashy and wondrously unpretentious 8..."
      ]
     },
     "execution_count": 3,
     "metadata": {},
     "output_type": "execute_result"
    }
   ],
   "source": [
    "df.head(5)"
   ]
  },
  {
   "cell_type": "code",
   "execution_count": 14,
   "id": "42183d45",
   "metadata": {},
   "outputs": [
    {
     "name": "stdout",
     "output_type": "stream",
     "text": [
      "count of positive review is: 12500\n",
      "count of negative review is: 12500\n"
     ]
    }
   ],
   "source": [
    "# the IMDB rating < 5 results in a sentiment score of 0 (negative), and rating >=7 have a sentiment score of 1 (positive). \n",
    "# how many positive and negative review are there\n",
    "Pos_count = df[df['sentiment']== 1]\n",
    "Neg_count = df[df['sentiment']== 0]\n",
    "print('count of positive review is:',len(Pos_count['sentiment']))\n",
    "print('count of negative review is:',len(Neg_count['sentiment']))\n"
   ]
  },
  {
   "cell_type": "code",
   "execution_count": 7,
   "id": "e2e62717",
   "metadata": {
    "collapsed": true
   },
   "outputs": [
    {
     "name": "stdout",
     "output_type": "stream",
     "text": [
      "Requirement already satisfied: textblob in c:\\users\\daisy\\appdata\\local\\programs\\python\\python311\\lib\\site-packages (0.18.0.post0)\n",
      "Requirement already satisfied: nltk>=3.8 in c:\\users\\daisy\\appdata\\local\\programs\\python\\python311\\lib\\site-packages (from textblob) (3.8.1)\n",
      "Requirement already satisfied: click in c:\\users\\daisy\\appdata\\local\\programs\\python\\python311\\lib\\site-packages (from nltk>=3.8->textblob) (8.1.7)\n",
      "Requirement already satisfied: joblib in c:\\users\\daisy\\appdata\\local\\programs\\python\\python311\\lib\\site-packages (from nltk>=3.8->textblob) (1.3.2)\n",
      "Requirement already satisfied: regex>=2021.8.3 in c:\\users\\daisy\\appdata\\local\\programs\\python\\python311\\lib\\site-packages (from nltk>=3.8->textblob) (2023.12.25)\n",
      "Requirement already satisfied: tqdm in c:\\users\\daisy\\appdata\\local\\programs\\python\\python311\\lib\\site-packages (from nltk>=3.8->textblob) (4.66.2)\n",
      "Requirement already satisfied: colorama in c:\\users\\daisy\\appdata\\local\\programs\\python\\python311\\lib\\site-packages (from click->nltk>=3.8->textblob) (0.4.6)\n"
     ]
    },
    {
     "name": "stderr",
     "output_type": "stream",
     "text": [
      "\n",
      "[notice] A new release of pip is available: 23.3.2 -> 24.0\n",
      "[notice] To update, run: C:\\Users\\Daisy\\AppData\\Local\\Programs\\Python\\Python311\\python.exe -m pip install --upgrade pip\n"
     ]
    }
   ],
   "source": [
    "#!pip install -U textblob"
   ]
  },
  {
   "cell_type": "code",
   "execution_count": 6,
   "id": "b47f30bd",
   "metadata": {
    "collapsed": true
   },
   "outputs": [
    {
     "ename": "SyntaxError",
     "evalue": "invalid syntax (2621292756.py, line 1)",
     "output_type": "error",
     "traceback": [
      "\u001b[1;36m  Cell \u001b[1;32mIn[6], line 1\u001b[1;36m\u001b[0m\n\u001b[1;33m    python -m textblob.download_corpora\u001b[0m\n\u001b[1;37m              ^\u001b[0m\n\u001b[1;31mSyntaxError\u001b[0m\u001b[1;31m:\u001b[0m invalid syntax\n"
     ]
    }
   ],
   "source": [
    "#python -m textblob.download_corpora"
   ]
  },
  {
   "cell_type": "code",
   "execution_count": 4,
   "id": "08560188",
   "metadata": {},
   "outputs": [],
   "source": [
    "#try to use textblob to classify the review\n",
    "from textblob import TextBlob\n",
    "review = df['review']\n",
    "#review[1]\n",
    "blob_review =[]\n",
    "for item in df['review']:\n",
    "    blob = TextBlob(item)\n",
    "    blob_review.append(blob.sentiment.polarity)\n",
    "#blob_review[:3]"
   ]
  },
  {
   "cell_type": "code",
   "execution_count": 5,
   "id": "8eb8c828",
   "metadata": {},
   "outputs": [
    {
     "name": "stdout",
     "output_type": "stream",
     "text": [
      "Positive review count is: 19000\n",
      "Negative review count is: 6000\n"
     ]
    }
   ],
   "source": [
    "pos_count = 0\n",
    "neg_count = 0\n",
    "for item in blob_review:\n",
    "    if item >0:\n",
    "        pos_count += 1\n",
    "    else:\n",
    "        neg_count +=1    \n",
    "\n",
    "print('Positive review count is:', pos_count)\n",
    "print('Negative review count is:',neg_count)"
   ]
  },
  {
   "cell_type": "code",
   "execution_count": 25,
   "id": "674821e9",
   "metadata": {},
   "outputs": [
    {
     "name": "stdout",
     "output_type": "stream",
     "text": [
      "accuracy of texblob module is: 0.68528\n"
     ]
    }
   ],
   "source": [
    "#create predicted sentinment\n",
    "predict =[]\n",
    "for item in blob_review:\n",
    "    if item >0:\n",
    "        predict.append(1)\n",
    "    else:\n",
    "        predict.append(0)\n",
    "        \n",
    " \n",
    "from sklearn.metrics import accuracy_score\n",
    "print('accuracy of texblob module is:',accuracy_score(df['sentiment'], predict))"
   ]
  },
  {
   "cell_type": "markdown",
   "id": "dafb5dca",
   "metadata": {},
   "source": [
    "###### Summary:\n",
    "The original label show positive and negative review is half and half (12500: 12500). Using Textblob to predict the sentiment, the positive increased by 6500 and negative reduced by 6500. \n",
    "the accuracy is 0.68.\n",
    "Per statistics, random guessing will yield half and half (accuracy is 0.5). so this method is better than guessing, but need true sentiment data to make a call."
   ]
  },
  {
   "cell_type": "markdown",
   "id": "1215fb76",
   "metadata": {},
   "source": [
    "#### Extra: try to assess sentiment using Vader"
   ]
  },
  {
   "cell_type": "code",
   "execution_count": 18,
   "id": "1cd8f135",
   "metadata": {},
   "outputs": [],
   "source": [
    "# import package\n",
    "#!pip install vaderSentiment\n",
    "from vaderSentiment.vaderSentiment import SentimentIntensityAnalyzer\n",
    "analyser = SentimentIntensityAnalyzer()"
   ]
  },
  {
   "cell_type": "code",
   "execution_count": 19,
   "id": "62260d0b",
   "metadata": {},
   "outputs": [],
   "source": [
    "scores =[]\n",
    "review2 = df['review']"
   ]
  },
  {
   "cell_type": "code",
   "execution_count": 20,
   "id": "66e377db",
   "metadata": {},
   "outputs": [],
   "source": [
    "for item2 in review2:\n",
    "    result= analyser.polarity_scores(item2)\n",
    "    scores.append(result['compound'])"
   ]
  },
  {
   "cell_type": "code",
   "execution_count": 21,
   "id": "f9fe1f20",
   "metadata": {},
   "outputs": [
    {
     "data": {
      "text/plain": [
       "25000"
      ]
     },
     "execution_count": 21,
     "metadata": {},
     "output_type": "execute_result"
    }
   ],
   "source": [
    "len(scores)"
   ]
  },
  {
   "cell_type": "code",
   "execution_count": 22,
   "id": "e3855808",
   "metadata": {},
   "outputs": [
    {
     "name": "stdout",
     "output_type": "stream",
     "text": [
      "Positive review count using Vader is: 16591\n",
      "Negative review count using Vader is: 8389\n"
     ]
    }
   ],
   "source": [
    "# Vader will tell how positive and negative a sentiment is, we can set up a neutral, but to compare with text blob,\n",
    "# still keep 0 as criteria for positive and nagative\n",
    "Vader_pos_count = 0\n",
    "Vader_neg_count = 0\n",
    "#Vader_neutral = 0\n",
    "for item in scores:\n",
    "    if item > 0:\n",
    "        Vader_pos_count += 1\n",
    "    elif item < 0 :\n",
    "        Vader_neg_count += 1 \n",
    "    else:    \n",
    "        Vader_neutral += 1\n",
    "print('Positive review count using Vader is:', Vader_pos_count)\n",
    "print('Negative review count using Vader is:',Vader_neg_count)\n",
    "#print('Neutral review count using Vader is:',Vader_neutral)"
   ]
  },
  {
   "cell_type": "code",
   "execution_count": 24,
   "id": "2a62c474",
   "metadata": {},
   "outputs": [
    {
     "name": "stdout",
     "output_type": "stream",
     "text": [
      "accuracy of vader module is: 0.6942\n"
     ]
    }
   ],
   "source": [
    "# calculate the accuracy\n",
    "#create predicted sentinment\n",
    "predict2 =[]\n",
    "for score in scores:\n",
    "    if score >0:\n",
    "        predict2.append(1)\n",
    "    else:\n",
    "        predict2.append(0)\n",
    "        \n",
    " \n",
    "from sklearn.metrics import accuracy_score\n",
    "print('accuracy of vader module is:', accuracy_score(df['sentiment'], predict2))"
   ]
  },
  {
   "cell_type": "markdown",
   "id": "d225282a",
   "metadata": {},
   "source": [
    "###### Summary:\n",
    "Using Vader to predict the sentiment, there are 16591 positive and 8389 negative. \n",
    "accuracy is 0.6942, which is slightly better than textblob model. "
   ]
  },
  {
   "cell_type": "markdown",
   "id": "78640029",
   "metadata": {},
   "source": [
    "##### End of exercise part 1"
   ]
  },
  {
   "cell_type": "markdown",
   "id": "5d9cf3c9",
   "metadata": {},
   "source": [
    "### Part 2: Prepping Text for a Custom Model"
   ]
  },
  {
   "cell_type": "code",
   "execution_count": 3,
   "id": "9fa2a38c",
   "metadata": {},
   "outputs": [
    {
     "name": "stdout",
     "output_type": "stream",
     "text": [
      "NA check: id           0\n",
      "sentiment    0\n",
      "review       0\n",
      "dtype: int64\n",
      "duplicated check: 0\n"
     ]
    }
   ],
   "source": [
    "# since we need to work on text, so clean up the text\n",
    "# drop ID column\n",
    "df.drop(columns = ['id'])\n",
    "#check if any row is empty\n",
    "print('NA check:',df.isnull().sum())\n",
    "#check if any duplicate\n",
    "print('duplicated check:',df.duplicated().sum())"
   ]
  },
  {
   "cell_type": "code",
   "execution_count": 4,
   "id": "4ebc6413",
   "metadata": {},
   "outputs": [
    {
     "data": {
      "text/html": [
       "<div>\n",
       "<style scoped>\n",
       "    .dataframe tbody tr th:only-of-type {\n",
       "        vertical-align: middle;\n",
       "    }\n",
       "\n",
       "    .dataframe tbody tr th {\n",
       "        vertical-align: top;\n",
       "    }\n",
       "\n",
       "    .dataframe thead th {\n",
       "        text-align: right;\n",
       "    }\n",
       "</style>\n",
       "<table border=\"1\" class=\"dataframe\">\n",
       "  <thead>\n",
       "    <tr style=\"text-align: right;\">\n",
       "      <th></th>\n",
       "      <th>id</th>\n",
       "      <th>sentiment</th>\n",
       "      <th>review</th>\n",
       "    </tr>\n",
       "  </thead>\n",
       "  <tbody>\n",
       "    <tr>\n",
       "      <th>0</th>\n",
       "      <td>5814_8</td>\n",
       "      <td>1</td>\n",
       "      <td>With all this stuff going down at the moment w...</td>\n",
       "    </tr>\n",
       "    <tr>\n",
       "      <th>1</th>\n",
       "      <td>2381_9</td>\n",
       "      <td>1</td>\n",
       "      <td>\\The Classic War of the Worlds\\\" by Timothy Hi...</td>\n",
       "    </tr>\n",
       "    <tr>\n",
       "      <th>2</th>\n",
       "      <td>7759_3</td>\n",
       "      <td>0</td>\n",
       "      <td>The film starts with a manager (Nicholas Bell)...</td>\n",
       "    </tr>\n",
       "    <tr>\n",
       "      <th>3</th>\n",
       "      <td>3630_4</td>\n",
       "      <td>0</td>\n",
       "      <td>It must be assumed that those who praised this...</td>\n",
       "    </tr>\n",
       "    <tr>\n",
       "      <th>4</th>\n",
       "      <td>9495_8</td>\n",
       "      <td>1</td>\n",
       "      <td>Superbly trashy and wondrously unpretentious 8...</td>\n",
       "    </tr>\n",
       "  </tbody>\n",
       "</table>\n",
       "</div>"
      ],
      "text/plain": [
       "       id  sentiment                                             review\n",
       "0  5814_8          1  With all this stuff going down at the moment w...\n",
       "1  2381_9          1  \\The Classic War of the Worlds\\\" by Timothy Hi...\n",
       "2  7759_3          0  The film starts with a manager (Nicholas Bell)...\n",
       "3  3630_4          0  It must be assumed that those who praised this...\n",
       "4  9495_8          1  Superbly trashy and wondrously unpretentious 8..."
      ]
     },
     "execution_count": 4,
     "metadata": {},
     "output_type": "execute_result"
    }
   ],
   "source": [
    "# clean up #1: remove html tags\n",
    "import re\n",
    "\n",
    "def remove_html_tags(text):\n",
    "    clean = re.compile('<.*?>')\n",
    "    return re.sub(clean, '', text)\n",
    "df['review'] = df['review'].apply(remove_html_tags)\n",
    "df.head(5)"
   ]
  },
  {
   "cell_type": "code",
   "execution_count": 5,
   "id": "9bdfe6b4",
   "metadata": {},
   "outputs": [
    {
     "data": {
      "text/html": [
       "<div>\n",
       "<style scoped>\n",
       "    .dataframe tbody tr th:only-of-type {\n",
       "        vertical-align: middle;\n",
       "    }\n",
       "\n",
       "    .dataframe tbody tr th {\n",
       "        vertical-align: top;\n",
       "    }\n",
       "\n",
       "    .dataframe thead th {\n",
       "        text-align: right;\n",
       "    }\n",
       "</style>\n",
       "<table border=\"1\" class=\"dataframe\">\n",
       "  <thead>\n",
       "    <tr style=\"text-align: right;\">\n",
       "      <th></th>\n",
       "      <th>id</th>\n",
       "      <th>sentiment</th>\n",
       "      <th>review</th>\n",
       "    </tr>\n",
       "  </thead>\n",
       "  <tbody>\n",
       "    <tr>\n",
       "      <th>0</th>\n",
       "      <td>5814_8</td>\n",
       "      <td>1</td>\n",
       "      <td>With all this stuff going down at the moment w...</td>\n",
       "    </tr>\n",
       "    <tr>\n",
       "      <th>1</th>\n",
       "      <td>2381_9</td>\n",
       "      <td>1</td>\n",
       "      <td>The Classic War of the Worlds by Timothy Hines...</td>\n",
       "    </tr>\n",
       "    <tr>\n",
       "      <th>2</th>\n",
       "      <td>7759_3</td>\n",
       "      <td>0</td>\n",
       "      <td>The film starts with a manager Nicholas Bell g...</td>\n",
       "    </tr>\n",
       "    <tr>\n",
       "      <th>3</th>\n",
       "      <td>3630_4</td>\n",
       "      <td>0</td>\n",
       "      <td>It must be assumed that those who praised this...</td>\n",
       "    </tr>\n",
       "    <tr>\n",
       "      <th>4</th>\n",
       "      <td>9495_8</td>\n",
       "      <td>1</td>\n",
       "      <td>Superbly trashy and wondrously unpretentious 8...</td>\n",
       "    </tr>\n",
       "  </tbody>\n",
       "</table>\n",
       "</div>"
      ],
      "text/plain": [
       "       id  sentiment                                             review\n",
       "0  5814_8          1  With all this stuff going down at the moment w...\n",
       "1  2381_9          1  The Classic War of the Worlds by Timothy Hines...\n",
       "2  7759_3          0  The film starts with a manager Nicholas Bell g...\n",
       "3  3630_4          0  It must be assumed that those who praised this...\n",
       "4  9495_8          1  Superbly trashy and wondrously unpretentious 8..."
      ]
     },
     "execution_count": 5,
     "metadata": {},
     "output_type": "execute_result"
    }
   ],
   "source": [
    "# cleanup #2: remove all special characters\n",
    "def remove_special_characters(text):\n",
    "    pattern = r'[^a-zA-Z0-9\\s]'\n",
    "    cleaned_text = re.sub(pattern, '', text)\n",
    "    return cleaned_text\n",
    "df['review']=df['review'].apply(remove_special_characters)\n",
    "df.head(5)"
   ]
  },
  {
   "cell_type": "code",
   "execution_count": 6,
   "id": "6e52fe12",
   "metadata": {},
   "outputs": [
    {
     "data": {
      "text/html": [
       "<div>\n",
       "<style scoped>\n",
       "    .dataframe tbody tr th:only-of-type {\n",
       "        vertical-align: middle;\n",
       "    }\n",
       "\n",
       "    .dataframe tbody tr th {\n",
       "        vertical-align: top;\n",
       "    }\n",
       "\n",
       "    .dataframe thead th {\n",
       "        text-align: right;\n",
       "    }\n",
       "</style>\n",
       "<table border=\"1\" class=\"dataframe\">\n",
       "  <thead>\n",
       "    <tr style=\"text-align: right;\">\n",
       "      <th></th>\n",
       "      <th>id</th>\n",
       "      <th>sentiment</th>\n",
       "      <th>review</th>\n",
       "    </tr>\n",
       "  </thead>\n",
       "  <tbody>\n",
       "    <tr>\n",
       "      <th>0</th>\n",
       "      <td>5814_8</td>\n",
       "      <td>1</td>\n",
       "      <td>With all this stuff going down at the moment w...</td>\n",
       "    </tr>\n",
       "    <tr>\n",
       "      <th>1</th>\n",
       "      <td>2381_9</td>\n",
       "      <td>1</td>\n",
       "      <td>The Classic War of the Worlds by Timothy Hines...</td>\n",
       "    </tr>\n",
       "    <tr>\n",
       "      <th>2</th>\n",
       "      <td>7759_3</td>\n",
       "      <td>0</td>\n",
       "      <td>The film starts with a manager Nicholas Bell g...</td>\n",
       "    </tr>\n",
       "  </tbody>\n",
       "</table>\n",
       "</div>"
      ],
      "text/plain": [
       "       id  sentiment                                             review\n",
       "0  5814_8          1  With all this stuff going down at the moment w...\n",
       "1  2381_9          1  The Classic War of the Worlds by Timothy Hines...\n",
       "2  7759_3          0  The film starts with a manager Nicholas Bell g..."
      ]
     },
     "execution_count": 6,
     "metadata": {},
     "output_type": "execute_result"
    }
   ],
   "source": [
    "# clean up #3: remove punctuation\n",
    "#import unicodedata\n",
    "#import sys\n",
    "import string\n",
    "c= df['review']\n",
    "#punctuation = dict.fromkeys(\n",
    "#    (i for i in range(sys.maxunicode)\n",
    "#    if unicodedata.category(chr(i)).startswitch('P')\n",
    "#    ),\n",
    "#    None\n",
    "#)\n",
    "def remove_punc(text):\n",
    "    test_str =text.translate(str.maketrans('', '', string.punctuation))\n",
    "    return test_str\n",
    "df['review']=df['review'].apply(remove_punc)\n",
    "df.head(3)    "
   ]
  },
  {
   "cell_type": "code",
   "execution_count": 7,
   "id": "6d976853",
   "metadata": {},
   "outputs": [
    {
     "data": {
      "text/html": [
       "<div>\n",
       "<style scoped>\n",
       "    .dataframe tbody tr th:only-of-type {\n",
       "        vertical-align: middle;\n",
       "    }\n",
       "\n",
       "    .dataframe tbody tr th {\n",
       "        vertical-align: top;\n",
       "    }\n",
       "\n",
       "    .dataframe thead th {\n",
       "        text-align: right;\n",
       "    }\n",
       "</style>\n",
       "<table border=\"1\" class=\"dataframe\">\n",
       "  <thead>\n",
       "    <tr style=\"text-align: right;\">\n",
       "      <th></th>\n",
       "      <th>id</th>\n",
       "      <th>sentiment</th>\n",
       "      <th>review</th>\n",
       "    </tr>\n",
       "  </thead>\n",
       "  <tbody>\n",
       "    <tr>\n",
       "      <th>0</th>\n",
       "      <td>5814_8</td>\n",
       "      <td>1</td>\n",
       "      <td>with all this stuff going down at the moment w...</td>\n",
       "    </tr>\n",
       "    <tr>\n",
       "      <th>1</th>\n",
       "      <td>2381_9</td>\n",
       "      <td>1</td>\n",
       "      <td>the classic war of the worlds by timothy hines...</td>\n",
       "    </tr>\n",
       "    <tr>\n",
       "      <th>2</th>\n",
       "      <td>7759_3</td>\n",
       "      <td>0</td>\n",
       "      <td>the film starts with a manager nicholas bell g...</td>\n",
       "    </tr>\n",
       "    <tr>\n",
       "      <th>3</th>\n",
       "      <td>3630_4</td>\n",
       "      <td>0</td>\n",
       "      <td>it must be assumed that those who praised this...</td>\n",
       "    </tr>\n",
       "  </tbody>\n",
       "</table>\n",
       "</div>"
      ],
      "text/plain": [
       "       id  sentiment                                             review\n",
       "0  5814_8          1  with all this stuff going down at the moment w...\n",
       "1  2381_9          1  the classic war of the worlds by timothy hines...\n",
       "2  7759_3          0  the film starts with a manager nicholas bell g...\n",
       "3  3630_4          0  it must be assumed that those who praised this..."
      ]
     },
     "execution_count": 7,
     "metadata": {},
     "output_type": "execute_result"
    }
   ],
   "source": [
    "# clean up #4: Convert all text to lowercase letters.\n",
    "df['review'] = df['review'].apply(lambda x: x.lower())\n",
    "df.head(4)"
   ]
  },
  {
   "cell_type": "code",
   "execution_count": 8,
   "id": "aa565e18",
   "metadata": {},
   "outputs": [],
   "source": [
    "# clean up #5: remove all stop words\n",
    "import nltk\n",
    "#nltk.download('stopwords')\n",
    "from nltk.corpus import stopwords\n",
    "from nltk.tokenize import word_tokenize\n",
    "\n",
    "def remove_stopwords(text):\n",
    "    tokens = word_tokenize(text)\n",
    "    stop_words = set(stopwords.words('english'))\n",
    "    filtered_tokens = [word for word in tokens if word.lower() not in stop_words]\n",
    "    processed_text = ' '.join(filtered_tokens)\n",
    "    \n",
    "    return processed_text\n",
    "    \n",
    "#try out new function\n",
    "#r = df['review']\n",
    "#r1 = r[1]\n",
    "#r2 = remove_stopwords(r1)\n",
    "\n",
    "df['review']=df['review'].apply(remove_stopwords)"
   ]
  },
  {
   "cell_type": "code",
   "execution_count": 10,
   "id": "7bb10da9",
   "metadata": {},
   "outputs": [],
   "source": [
    "# Apply NLTK’s PorterStemmer\n",
    "#first tokenize the string into word\n",
    "from nltk.stem.porter import  PorterStemmer\n",
    "\n",
    "def tokenize(text):\n",
    "    word = word_tokenize(text)\n",
    "    return word\n",
    "\n",
    "df['token'] =df['review'].apply(tokenize)"
   ]
  },
  {
   "cell_type": "code",
   "execution_count": 26,
   "id": "a6d9e1fd",
   "metadata": {},
   "outputs": [
    {
     "data": {
      "text/plain": [
       "0        [stuff, going, moment, mj, ive, started, liste...\n",
       "1        [classic, war, worlds, timothy, hines, enterta...\n",
       "2        [film, starts, manager, nicholas, bell, giving...\n",
       "3        [must, assumed, praised, film, greatest, filme...\n",
       "4        [superbly, trashy, wondrously, unpretentious, ...\n",
       "                               ...                        \n",
       "24995    [seems, like, consideration, gone, imdb, revie...\n",
       "24996    [dont, believe, made, film, completely, unnece...\n",
       "24997    [guy, loser, cant, get, girls, needs, build, p...\n",
       "24998    [30, minute, documentary, buuel, made, early, ...\n",
       "24999    [saw, movie, child, broke, heart, story, unfin...\n",
       "Name: token, Length: 25000, dtype: object"
      ]
     },
     "execution_count": 26,
     "metadata": {},
     "output_type": "execute_result"
    }
   ],
   "source": [
    "df['token']"
   ]
  },
  {
   "cell_type": "code",
   "execution_count": 11,
   "id": "db4861ae",
   "metadata": {},
   "outputs": [],
   "source": [
    "# apply stemmer\n",
    "#d =df['token']\n",
    "#d[1]\n",
    "porter = PorterStemmer()\n",
    "def stem(text):\n",
    "    stem = [porter.stem(word) for word in text]\n",
    "    return stem\n",
    "\n",
    "df['stem'] = df['token'].apply(stem)"
   ]
  },
  {
   "cell_type": "code",
   "execution_count": 27,
   "id": "340f0d8e",
   "metadata": {},
   "outputs": [
    {
     "data": {
      "text/plain": [
       "0        [stuff, go, moment, mj, ive, start, listen, mu...\n",
       "1        [classic, war, world, timothi, hine, entertain...\n",
       "2        [film, start, manag, nichola, bell, give, welc...\n",
       "3        [must, assum, prais, film, greatest, film, ope...\n",
       "4        [superbl, trashi, wondrous, unpretenti, 80, ex...\n",
       "                               ...                        \n",
       "24995    [seem, like, consider, gone, imdb, review, fil...\n",
       "24996    [dont, believ, made, film, complet, unnecessar...\n",
       "24997    [guy, loser, cant, get, girl, need, build, pic...\n",
       "24998    [30, minut, documentari, buuel, made, earli, 1...\n",
       "24999    [saw, movi, child, broke, heart, stori, unfini...\n",
       "Name: stem, Length: 25000, dtype: object"
      ]
     },
     "execution_count": 27,
     "metadata": {},
     "output_type": "execute_result"
    }
   ],
   "source": [
    "df['stem']"
   ]
  },
  {
   "cell_type": "code",
   "execution_count": 12,
   "id": "c47151cf",
   "metadata": {},
   "outputs": [],
   "source": [
    "# create bag of words\n",
    "#import library\n",
    "from sklearn.feature_extraction.text import CountVectorizer\n"
   ]
  },
  {
   "cell_type": "code",
   "execution_count": 13,
   "id": "e2c5f201",
   "metadata": {},
   "outputs": [],
   "source": [
    "# the program will run into error if I transform df['stem'] directly, it works on df['review'] though. I need to loop it.\n",
    "# system will give error\" AttributeError: 'list' object has no attribute 'lower'\n",
    "s=df['stem']\n",
    "stem = []\n",
    "for item in s:\n",
    " count = CountVectorizer()\n",
    " bag_of_words = count.fit_transform(item)\n",
    " stem.append(bag_of_words)   "
   ]
  },
  {
   "cell_type": "code",
   "execution_count": 16,
   "id": "09efd0da",
   "metadata": {},
   "outputs": [
    {
     "name": "stdout",
     "output_type": "stream",
     "text": [
      "There are 25000 rows in bag of words.\n"
     ]
    }
   ],
   "source": [
    "print('There are %d rows in bag of words.' %(len(stem)))"
   ]
  },
  {
   "cell_type": "markdown",
   "id": "dde79bfb",
   "metadata": {},
   "source": [
    "###### the number of rows this bag-of-words matrix is 25000, same as original data frame"
   ]
  },
  {
   "cell_type": "code",
   "execution_count": 18,
   "id": "2abd1723",
   "metadata": {},
   "outputs": [],
   "source": [
    "# create tf-idf matrix on stemmed text\n",
    "from sklearn.feature_extraction.text import TfidfVectorizer\n",
    "e= df['stem']\n",
    "\n",
    "tfidf_matrix = []\n",
    "for item in e:\n",
    "    tfidf = TfidfVectorizer()\n",
    "    matrix = tfidf.fit_transform(item)\n",
    "    tfidf_matrix.append(matrix)"
   ]
  },
  {
   "cell_type": "code",
   "execution_count": 52,
   "id": "d9b8661c",
   "metadata": {},
   "outputs": [
    {
     "data": {
      "text/plain": [
       "25000"
      ]
     },
     "execution_count": 52,
     "metadata": {},
     "output_type": "execute_result"
    }
   ],
   "source": [
    "len(tfidf_matrix)"
   ]
  },
  {
   "cell_type": "markdown",
   "id": "0d96bf7e",
   "metadata": {},
   "source": [
    "###### the dimension of tf-idf matrix is the same as the bag of words matrix"
   ]
  },
  {
   "cell_type": "markdown",
   "id": "417a8487",
   "metadata": {},
   "source": [
    "###### End of exercise part 2"
   ]
  },
  {
   "cell_type": "code",
   "execution_count": null,
   "id": "10da997e",
   "metadata": {},
   "outputs": [],
   "source": []
  }
 ],
 "metadata": {
  "kernelspec": {
   "display_name": "Python 3 (ipykernel)",
   "language": "python",
   "name": "python3"
  },
  "language_info": {
   "codemirror_mode": {
    "name": "ipython",
    "version": 3
   },
   "file_extension": ".py",
   "mimetype": "text/x-python",
   "name": "python",
   "nbconvert_exporter": "python",
   "pygments_lexer": "ipython3",
   "version": "3.11.4"
  }
 },
 "nbformat": 4,
 "nbformat_minor": 5
}
